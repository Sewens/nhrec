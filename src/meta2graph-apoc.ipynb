{
 "cells": [
  {
   "cell_type": "code",
   "execution_count": 1,
   "id": "initial_id",
   "metadata": {
    "ExecuteTime": {
     "end_time": "2024-12-01T09:45:25.420523Z",
     "start_time": "2024-12-01T09:45:25.181257Z"
    },
    "execution": {
     "iopub.execute_input": "2024-12-07T08:02:41.595663Z",
     "iopub.status.busy": "2024-12-07T08:02:41.595663Z",
     "iopub.status.idle": "2024-12-07T08:02:42.379209Z",
     "shell.execute_reply": "2024-12-07T08:02:42.379209Z",
     "shell.execute_reply.started": "2024-12-07T08:02:41.595663Z"
    }
   },
   "outputs": [],
   "source": [
    "import json\n",
    "import os\n",
    "import re\n",
    "import pandas as pd\n",
    "import numpy as np"
   ]
  },
  {
   "cell_type": "markdown",
   "id": "3cf26fad-aa11-4fa8-b0f9-f80ea2fd9819",
   "metadata": {},
   "source": [
    "## 1. 读取本地元数据文件"
   ]
  },
  {
   "cell_type": "code",
   "execution_count": 2,
   "id": "fc2990d2-0f6e-4f78-bd29-5bcd238263dc",
   "metadata": {
    "execution": {
     "iopub.execute_input": "2024-12-07T08:02:42.379209Z",
     "iopub.status.busy": "2024-12-07T08:02:42.379209Z",
     "iopub.status.idle": "2024-12-07T08:02:42.386475Z",
     "shell.execute_reply": "2024-12-07T08:02:42.385876Z",
     "shell.execute_reply.started": "2024-12-07T08:02:42.379209Z"
    }
   },
   "outputs": [],
   "source": [
    "df_fpath = {\n",
    "    'tag':'../data/dumps/tag_241201.pkl',\n",
    "    'character':'../data/dumps/character_241201.pkl',\n",
    "    'group':'../data/dumps/group_241201.pkl',\n",
    "    'parody':'../data/dumps/parody_241201.pkl',\n",
    "    'artist':'../data/dumps/artist_241201.pkl'\n",
    "}"
   ]
  },
  {
   "cell_type": "code",
   "execution_count": 3,
   "id": "08bb2f9c-2932-48be-9b9b-612000f9d687",
   "metadata": {
    "execution": {
     "iopub.execute_input": "2024-12-07T08:02:42.388057Z",
     "iopub.status.busy": "2024-12-07T08:02:42.387526Z",
     "iopub.status.idle": "2024-12-07T08:02:42.393066Z",
     "shell.execute_reply": "2024-12-07T08:02:42.391991Z",
     "shell.execute_reply.started": "2024-12-07T08:02:42.388057Z"
    }
   },
   "outputs": [],
   "source": [
    "meta_df_map = {}"
   ]
  },
  {
   "cell_type": "code",
   "execution_count": 4,
   "id": "82081348-3da4-4eea-8e24-f409d6487db2",
   "metadata": {
    "execution": {
     "iopub.execute_input": "2024-12-07T08:02:42.395032Z",
     "iopub.status.busy": "2024-12-07T08:02:42.394481Z",
     "iopub.status.idle": "2024-12-07T08:02:42.430902Z",
     "shell.execute_reply": "2024-12-07T08:02:42.430902Z",
     "shell.execute_reply.started": "2024-12-07T08:02:42.395032Z"
    },
    "scrolled": true
   },
   "outputs": [],
   "source": [
    "for k in df_fpath:\n",
    "    meta_df_map[k] = pd.read_pickle(df_fpath[k])"
   ]
  },
  {
   "cell_type": "markdown",
   "id": "b13d4f4a-f4d4-4b57-9c62-6df523fc2f45",
   "metadata": {},
   "source": [
    "## 2. 读取数据"
   ]
  },
  {
   "cell_type": "code",
   "execution_count": 5,
   "id": "db432538-cf85-442d-8fc9-805ab3b32153",
   "metadata": {
    "execution": {
     "iopub.execute_input": "2024-12-07T08:02:42.430902Z",
     "iopub.status.busy": "2024-12-07T08:02:42.430902Z",
     "iopub.status.idle": "2024-12-07T08:02:51.442160Z",
     "shell.execute_reply": "2024-12-07T08:02:51.442160Z",
     "shell.execute_reply.started": "2024-12-07T08:02:42.430902Z"
    }
   },
   "outputs": [],
   "source": [
    "manga_df = pd.read_pickle('../data/dumps/manga_241130.pkl')"
   ]
  },
  {
   "cell_type": "code",
   "execution_count": 15,
   "id": "c21bc262-5dc9-49ee-90ed-083539cd07f3",
   "metadata": {
    "execution": {
     "iopub.execute_input": "2024-12-07T08:10:01.271196Z",
     "iopub.status.busy": "2024-12-07T08:10:01.271196Z",
     "iopub.status.idle": "2024-12-07T08:10:01.297320Z",
     "shell.execute_reply": "2024-12-07T08:10:01.297320Z",
     "shell.execute_reply.started": "2024-12-07T08:10:01.271196Z"
    }
   },
   "outputs": [],
   "source": [
    "meta_df_map = {k:pd.read_pickle(df_fpath[k]) for k in df_fpath}"
   ]
  },
  {
   "cell_type": "markdown",
   "id": "d43b10db-0703-4004-a59f-c6b6caec54c6",
   "metadata": {},
   "source": [
    "## 2.1 构建数据"
   ]
  },
  {
   "cell_type": "code",
   "execution_count": 16,
   "id": "68dcb78b-5f70-4344-b709-cfe328b4154f",
   "metadata": {
    "execution": {
     "iopub.execute_input": "2024-12-07T08:10:03.412647Z",
     "iopub.status.busy": "2024-12-07T08:10:03.412647Z",
     "iopub.status.idle": "2024-12-07T08:10:03.415705Z",
     "shell.execute_reply": "2024-12-07T08:10:03.415705Z",
     "shell.execute_reply.started": "2024-12-07T08:10:03.412647Z"
    },
    "scrolled": true
   },
   "outputs": [],
   "source": [
    "node_property = ['id','title','url','api','media_id','epos','num_favorites','category',\n",
    "                 'language','cover','thumbnail','image_urls','num_pages']"
   ]
  },
  {
   "cell_type": "code",
   "execution_count": 17,
   "id": "1bd28758-9fb0-45ef-9648-babd7ed28c5c",
   "metadata": {
    "execution": {
     "iopub.execute_input": "2024-12-07T08:10:03.593797Z",
     "iopub.status.busy": "2024-12-07T08:10:03.593797Z",
     "iopub.status.idle": "2024-12-07T08:10:03.610279Z",
     "shell.execute_reply": "2024-12-07T08:10:03.610279Z",
     "shell.execute_reply.started": "2024-12-07T08:10:03.593797Z"
    }
   },
   "outputs": [],
   "source": [
    "relation_property = ['tag', 'group', 'parody', 'character','artist']"
   ]
  },
  {
   "cell_type": "code",
   "execution_count": 18,
   "id": "b9095bfc-939d-42c5-a5dc-0439d5d8967c",
   "metadata": {
    "execution": {
     "iopub.execute_input": "2024-12-07T08:10:03.793767Z",
     "iopub.status.busy": "2024-12-07T08:10:03.793767Z",
     "iopub.status.idle": "2024-12-07T08:10:07.106722Z",
     "shell.execute_reply": "2024-12-07T08:10:07.106722Z",
     "shell.execute_reply.started": "2024-12-07T08:10:03.793767Z"
    },
    "scrolled": true
   },
   "outputs": [],
   "source": [
    "rel_id_map = {}\n",
    "for key in meta_df_map:\n",
    "    if not key in rel_id_map:\n",
    "        rel_id_map[key] = {}\n",
    "    for _,tpl in meta_df_map[key].iterrows():\n",
    "        rel_id_map[key][tpl['name']] = tpl[f'{key}_id']"
   ]
  },
  {
   "cell_type": "code",
   "execution_count": 19,
   "id": "c47bac9a-f314-4789-9582-c4f30e397059",
   "metadata": {
    "execution": {
     "iopub.execute_input": "2024-12-07T08:10:07.106722Z",
     "iopub.status.busy": "2024-12-07T08:10:07.106722Z",
     "iopub.status.idle": "2024-12-07T08:10:07.115967Z",
     "shell.execute_reply": "2024-12-07T08:10:07.114956Z",
     "shell.execute_reply.started": "2024-12-07T08:10:07.106722Z"
    }
   },
   "outputs": [
    {
     "data": {
      "text/plain": [
       "1033"
      ]
     },
     "execution_count": 19,
     "metadata": {},
     "output_type": "execute_result"
    }
   ],
   "source": [
    "rel_id_map['tag']['handjob']"
   ]
  },
  {
   "cell_type": "code",
   "execution_count": null,
   "id": "d7ac8654-0d08-4211-8141-aab1666bcbab",
   "metadata": {},
   "outputs": [],
   "source": []
  },
  {
   "cell_type": "markdown",
   "id": "e721fec3-99aa-491d-bb51-e9a909f31bdc",
   "metadata": {},
   "source": [
    "## 3. 建立neo4j链接\n",
    "\n",
    "远程链接本地链接均可。"
   ]
  },
  {
   "cell_type": "code",
   "execution_count": 74,
   "id": "d7c0c806-b376-495b-a898-5078a8ea6a7b",
   "metadata": {
    "execution": {
     "iopub.execute_input": "2024-12-07T09:40:30.751435Z",
     "iopub.status.busy": "2024-12-07T09:40:30.751435Z",
     "iopub.status.idle": "2024-12-07T09:40:30.764634Z",
     "shell.execute_reply": "2024-12-07T09:40:30.764634Z",
     "shell.execute_reply.started": "2024-12-07T09:40:30.751435Z"
    }
   },
   "outputs": [],
   "source": [
    "import neo4j\n",
    "from neo4j import GraphDatabase\n",
    "\n",
    "URI = \"bolt://localhost:7687\"\n",
    "\n",
    "AUTH = (\"neo4j\", \"11111111\")\n",
    "\n",
    "with GraphDatabase.driver(URI, auth=AUTH) as driver:\n",
    "    \n",
    "    driver.verify_connectivity()"
   ]
  },
  {
   "cell_type": "code",
   "execution_count": null,
   "id": "2a03f1ba-09e2-4f7b-837d-0737ab379b96",
   "metadata": {},
   "outputs": [],
   "source": []
  },
  {
   "cell_type": "markdown",
   "id": "2c72f1dd-ae67-4444-91f3-0a03a1d68614",
   "metadata": {},
   "source": [
    "### 3.1 更新meta节点值"
   ]
  },
  {
   "cell_type": "code",
   "execution_count": 57,
   "id": "61723678-d52b-48b7-ae2a-08cbdf0b64a1",
   "metadata": {
    "execution": {
     "iopub.execute_input": "2024-12-07T08:39:24.958873Z",
     "iopub.status.busy": "2024-12-07T08:39:24.958873Z",
     "iopub.status.idle": "2024-12-07T08:39:24.966771Z",
     "shell.execute_reply": "2024-12-07T08:39:24.965766Z",
     "shell.execute_reply.started": "2024-12-07T08:39:24.958873Z"
    }
   },
   "outputs": [],
   "source": [
    "# 批量创建节点\n",
    "def create_nodes_in_batch(tx, meta_name , nodes):\n",
    "    query = f'''\n",
    "        CALL apoc.create.nodes([\"{meta_name}\"],$nodes)\n",
    "    '''\n",
    "    tx.run(query, nodes=nodes)\n",
    "\n",
    "# def update_nodes_in_batch(tx, meta_name , nodes):\n",
    "#     query = f\" UNWIND $nodes AS node MATCH (u:{meta_name}) WHERE u.name = node.name SET u.count = node.count \"\n",
    "#     tx.run(query, nodes=nodes)"
   ]
  },
  {
   "cell_type": "code",
   "execution_count": 58,
   "id": "c4c6a5f8-9d6a-4d2a-ab4a-e60b413ff802",
   "metadata": {
    "execution": {
     "iopub.execute_input": "2024-12-07T08:39:25.954112Z",
     "iopub.status.busy": "2024-12-07T08:39:25.953114Z",
     "iopub.status.idle": "2024-12-07T08:39:32.852934Z",
     "shell.execute_reply": "2024-12-07T08:39:32.852934Z",
     "shell.execute_reply.started": "2024-12-07T08:39:25.953114Z"
    },
    "scrolled": true
   },
   "outputs": [],
   "source": [
    "with GraphDatabase.driver(URI, auth=AUTH) as driver:\n",
    "    \n",
    "    driver.verify_connectivity()\n",
    "    \n",
    "    for key in meta_df_map:\n",
    "        node_df = meta_df_map[key]\n",
    "\n",
    "        # 示例：批量插入数据\n",
    "        nodes_to_insert = list(node_df.T.to_dict().values())\n",
    "        \n",
    "        with driver.session() as session:\n",
    "            \n",
    "            session.execute_write(create_nodes_in_batch, key, nodes_to_insert)\n",
    "            "
   ]
  },
  {
   "cell_type": "markdown",
   "id": "ae69704b-4767-4a17-855b-c537f092c894",
   "metadata": {},
   "source": [
    "### 3.2 更新漫画节点值"
   ]
  },
  {
   "cell_type": "code",
   "execution_count": null,
   "id": "1c24fe9d-363a-44e3-8d1f-c1419e8dcb81",
   "metadata": {},
   "outputs": [],
   "source": []
  },
  {
   "cell_type": "code",
   "execution_count": 59,
   "id": "afe675c0-1f16-4f2b-b0a1-34056c31cd9e",
   "metadata": {
    "execution": {
     "iopub.execute_input": "2024-12-07T08:40:28.494336Z",
     "iopub.status.busy": "2024-12-07T08:40:28.494336Z",
     "iopub.status.idle": "2024-12-07T08:40:28.499591Z",
     "shell.execute_reply": "2024-12-07T08:40:28.498581Z",
     "shell.execute_reply.started": "2024-12-07T08:40:28.494336Z"
    }
   },
   "outputs": [],
   "source": [
    "def create_manga_nodes_in_batch(tx , nodes):\n",
    "    query = f'''\n",
    "        CALL apoc.create.nodes([\"manga\"],$nodes)\n",
    "    '''\n",
    "    tx.run(query, nodes=nodes)"
   ]
  },
  {
   "cell_type": "code",
   "execution_count": 62,
   "id": "0ec4a9ac-2a3f-4aa3-93c2-6d7cc1a7554e",
   "metadata": {
    "execution": {
     "iopub.execute_input": "2024-12-07T08:47:53.393163Z",
     "iopub.status.busy": "2024-12-07T08:47:53.393163Z",
     "iopub.status.idle": "2024-12-07T08:53:50.013959Z",
     "shell.execute_reply": "2024-12-07T08:53:50.012930Z",
     "shell.execute_reply.started": "2024-12-07T08:47:53.393163Z"
    },
    "scrolled": true
   },
   "outputs": [],
   "source": [
    "with GraphDatabase.driver(URI, auth=AUTH) as driver:\n",
    "    \n",
    "    driver.verify_connectivity()\n",
    "    \n",
    "    nodes_to_insert = list(manga_df.T.to_dict().values())\n",
    "    batch_size = 1024\n",
    "    \n",
    "    with driver.session() as session:\n",
    "        for i in range(0,len(nodes_to_insert),batch_size):\n",
    "            batch_to_insert = nodes_to_insert[i:i+batch_size]\n",
    "            session.execute_write(create_manga_nodes_in_batch , batch_to_insert)\n",
    "        "
   ]
  },
  {
   "cell_type": "code",
   "execution_count": null,
   "id": "2d6264e1-ff34-49d1-9cba-64b4f4b8a162",
   "metadata": {},
   "outputs": [],
   "source": []
  },
  {
   "cell_type": "markdown",
   "id": "38441ac0-e769-4918-a4c6-f4ddfb0d30f9",
   "metadata": {},
   "source": [
    "### 3.3 构建索引\n",
    "\n",
    "将对应id构建为索引"
   ]
  },
  {
   "cell_type": "code",
   "execution_count": 64,
   "id": "c8948740-94c4-4e17-9f45-f92cba68c670",
   "metadata": {
    "execution": {
     "iopub.execute_input": "2024-12-07T08:58:05.314687Z",
     "iopub.status.busy": "2024-12-07T08:58:05.314125Z",
     "iopub.status.idle": "2024-12-07T08:58:05.319696Z",
     "shell.execute_reply": "2024-12-07T08:58:05.319083Z",
     "shell.execute_reply.started": "2024-12-07T08:58:05.314687Z"
    }
   },
   "outputs": [],
   "source": [
    "def create_range_index(tx,meta_name):\n",
    "    query = f'''\n",
    "    CREATE INDEX FOR (n:{meta_name}) ON (n.{meta_name}_id)\n",
    "    '''\n",
    "    tx.run(query)"
   ]
  },
  {
   "cell_type": "code",
   "execution_count": 63,
   "id": "3939012a-dc0e-42af-8899-edd1484da803",
   "metadata": {
    "execution": {
     "iopub.execute_input": "2024-12-07T08:57:34.718734Z",
     "iopub.status.busy": "2024-12-07T08:57:34.717734Z",
     "iopub.status.idle": "2024-12-07T08:57:34.730712Z",
     "shell.execute_reply": "2024-12-07T08:57:34.729705Z",
     "shell.execute_reply.started": "2024-12-07T08:57:34.718734Z"
    }
   },
   "outputs": [],
   "source": [
    "indeces_name = ['tag','parody','character','manga','artist','group']"
   ]
  },
  {
   "cell_type": "code",
   "execution_count": 65,
   "id": "a93e571e-738b-443a-90c2-5d9b1466ca39",
   "metadata": {
    "execution": {
     "iopub.execute_input": "2024-12-07T08:58:09.712904Z",
     "iopub.status.busy": "2024-12-07T08:58:09.711903Z",
     "iopub.status.idle": "2024-12-07T08:58:09.874485Z",
     "shell.execute_reply": "2024-12-07T08:58:09.874485Z",
     "shell.execute_reply.started": "2024-12-07T08:58:09.712904Z"
    }
   },
   "outputs": [],
   "source": [
    "with GraphDatabase.driver(URI, auth=AUTH) as driver:\n",
    "    \n",
    "    driver.verify_connectivity()\n",
    "    \n",
    "    with driver.session() as session:\n",
    "        for name in indeces_name:\n",
    "            session.execute_write(create_range_index , name)\n",
    "        "
   ]
  },
  {
   "cell_type": "code",
   "execution_count": null,
   "id": "b17c7128-a7f5-42f7-a510-286786be9e42",
   "metadata": {},
   "outputs": [],
   "source": []
  },
  {
   "cell_type": "markdown",
   "id": "2a8d2712-5b44-4d69-a618-4ebaa9208d30",
   "metadata": {},
   "source": [
    "## 3.4 构建关系\n",
    "\n",
    "关系总数远大于节点数时首先建立关系，之后更新节点的properties"
   ]
  },
  {
   "cell_type": "markdown",
   "id": "2eb71c0c-3a19-45a8-a70b-bbda9b5b8e38",
   "metadata": {},
   "source": [
    "```python\n",
    "relationships_to_insert = [\n",
    "    {\"start_node\": \"A\", \"end_node\": \"B\", \"relationship_type\": \"RELATIONSHIP_1\", \"properties\": {\"prop1\": \"value1\"}},\n",
    "    {\"start_node\": \"A\", \"end_node\": \"B\", \"relationship_type\": \"RELATIONSHIP_2\", \"properties\": {\"prop2\": \"value2\"}},\n",
    "    # 更多关系数据...\n",
    "]\n",
    "```"
   ]
  },
  {
   "cell_type": "code",
   "execution_count": 100,
   "id": "92efb452-a847-44b5-976d-e6a94e08c6ab",
   "metadata": {
    "execution": {
     "iopub.execute_input": "2024-12-07T11:06:08.455810Z",
     "iopub.status.busy": "2024-12-07T11:06:08.455810Z",
     "iopub.status.idle": "2024-12-07T11:06:08.460990Z",
     "shell.execute_reply": "2024-12-07T11:06:08.460467Z",
     "shell.execute_reply.started": "2024-12-07T11:06:08.455810Z"
    }
   },
   "outputs": [],
   "source": [
    "def create_relation_batch(tx,relationships):\n",
    "    rel_type = relationships[0]['relationship_type']\n",
    "    schema = rel_type.removeprefix('has_')\n",
    "    query = f'''CALL apoc.periodic.iterate(\n",
    "        \"UNWIND $relationships AS rel\n",
    "        match (a:manga {{manga_id:rel.start_node}})\n",
    "        match (b:{schema} {{{schema}_id:rel.end_node}})\n",
    "        return a as a,b as b\n",
    "        \",\n",
    "        \"MERGE (a)-[:{rel_type}]->(b)\",\n",
    "        {{batchSize: 20480, iterateList:true, parallel:false,\n",
    "        params: {{relationships: $relationships}}}}\n",
    "    )\n",
    "    '''\n",
    "    tx.run(query, relationships=relationships)"
   ]
  },
  {
   "cell_type": "code",
   "execution_count": 101,
   "id": "11303acb-13e0-444b-b466-7263ac14da47",
   "metadata": {
    "execution": {
     "iopub.execute_input": "2024-12-07T11:06:18.013293Z",
     "iopub.status.busy": "2024-12-07T11:06:18.013293Z",
     "iopub.status.idle": "2024-12-07T11:12:58.227065Z",
     "shell.execute_reply": "2024-12-07T11:12:58.226059Z",
     "shell.execute_reply.started": "2024-12-07T11:06:18.013293Z"
    },
    "scrolled": true
   },
   "outputs": [
    {
     "name": "stdout",
     "output_type": "stream",
     "text": [
      "tag data build successful. Total volume:3876841\n",
      "Round:0, Building relationship on batchsize:204800\n",
      "Round:1, Building relationship on batchsize:204800\n",
      "Round:2, Building relationship on batchsize:204800\n",
      "Round:3, Building relationship on batchsize:204800\n",
      "Round:4, Building relationship on batchsize:204800\n",
      "Round:5, Building relationship on batchsize:204800\n",
      "Round:6, Building relationship on batchsize:204800\n",
      "Round:7, Building relationship on batchsize:204800\n",
      "Round:8, Building relationship on batchsize:204800\n",
      "Round:9, Building relationship on batchsize:204800\n",
      "Round:10, Building relationship on batchsize:204800\n",
      "Round:11, Building relationship on batchsize:204800\n",
      "Round:12, Building relationship on batchsize:204800\n",
      "Round:13, Building relationship on batchsize:204800\n",
      "Round:14, Building relationship on batchsize:204800\n",
      "Round:15, Building relationship on batchsize:204800\n",
      "Round:16, Building relationship on batchsize:204800\n",
      "Round:17, Building relationship on batchsize:204800\n",
      "Round:18, Building relationship on batchsize:204800\n",
      "tag insert successful. Total volume:3876841\n",
      "group data build successful. Total volume:316630\n",
      "Round:0, Building relationship on batchsize:204800\n",
      "Round:1, Building relationship on batchsize:204800\n",
      "group insert successful. Total volume:316630\n",
      "parody data build successful. Total volume:369238\n",
      "Round:0, Building relationship on batchsize:204800\n",
      "Round:1, Building relationship on batchsize:204800\n",
      "parody insert successful. Total volume:369238\n",
      "character data build successful. Total volume:462169\n",
      "Round:0, Building relationship on batchsize:204800\n",
      "Round:1, Building relationship on batchsize:204800\n",
      "Round:2, Building relationship on batchsize:204800\n",
      "character insert successful. Total volume:462169\n",
      "artist data build successful. Total volume:579011\n",
      "Round:0, Building relationship on batchsize:204800\n",
      "Round:1, Building relationship on batchsize:204800\n",
      "Round:2, Building relationship on batchsize:204800\n",
      "artist insert successful. Total volume:579011\n"
     ]
    }
   ],
   "source": [
    "batch_size = 204800\n",
    "# building relation and destory\n",
    "for rel_type in relation_property:\n",
    "    relation_lst = []\n",
    "    for idx,(_,tpl) in enumerate(manga_df.iterrows()):\n",
    "        rel_builder = lambda x:{'start_node':tpl[f'manga_id'],\n",
    "                                'end_node':rel_id_map[rel_type][x],\n",
    "                                'relationship_type':f'has_{rel_type}'}\n",
    "        \n",
    "        relation_lst += map(rel_builder,tpl[rel_type])\n",
    "\n",
    "    print(f'{rel_type} data build successful. Total volume:{len(relation_lst)}')\n",
    "    # insert relationship\n",
    "    with GraphDatabase.driver(URI, auth=AUTH,max_connection_lifetime=600) as driver:\n",
    "    \n",
    "        driver.verify_connectivity()\n",
    "    \n",
    "        with driver.session() as session:\n",
    "            for i in range(0,len(relation_lst),batch_size):\n",
    "                batch_to_relation = relation_lst[i:i+batch_size]\n",
    "                print(f'Round:{i//batch_size}, Building relationship on batchsize:{batch_size}')\n",
    "                session.execute_write(create_relation_batch, batch_to_relation)\n",
    "\n",
    "    print(f'{rel_type} insert successful. Total volume:{len(relation_lst)}')\n",
    "    del relation_lst"
   ]
  },
  {
   "cell_type": "code",
   "execution_count": null,
   "id": "59f4c5f4-ac46-42bd-9bc0-1af69da4bd61",
   "metadata": {},
   "outputs": [],
   "source": []
  },
  {
   "cell_type": "code",
   "execution_count": null,
   "id": "d292b538-190c-4b40-a507-cdcf142cc4f3",
   "metadata": {},
   "outputs": [],
   "source": []
  },
  {
   "cell_type": "markdown",
   "id": "b05137b2-8f62-439f-bf33-327739f8cbb6",
   "metadata": {},
   "source": [
    "### 3.2 插入漫画节点"
   ]
  },
  {
   "cell_type": "markdown",
   "id": "0df5c748-5385-4879-82f8-806d952d2199",
   "metadata": {},
   "source": [
    "### 3.3 插入节点关系"
   ]
  },
  {
   "cell_type": "code",
   "execution_count": null,
   "id": "665d5712-cc09-478f-a57a-f141bc2942d5",
   "metadata": {},
   "outputs": [],
   "source": []
  },
  {
   "cell_type": "code",
   "execution_count": null,
   "id": "c35c4cff-e526-4cb4-a7e2-1919b3167978",
   "metadata": {},
   "outputs": [],
   "source": []
  },
  {
   "cell_type": "code",
   "execution_count": null,
   "id": "d816a1de-b783-4575-abfa-8fd538140517",
   "metadata": {},
   "outputs": [],
   "source": []
  }
 ],
 "metadata": {
  "kernelspec": {
   "display_name": "Python 3 (ipykernel)",
   "language": "python",
   "name": "python3"
  },
  "language_info": {
   "codemirror_mode": {
    "name": "ipython",
    "version": 3
   },
   "file_extension": ".py",
   "mimetype": "text/x-python",
   "name": "python",
   "nbconvert_exporter": "python",
   "pygments_lexer": "ipython3",
   "version": "3.11.5"
  }
 },
 "nbformat": 4,
 "nbformat_minor": 5
}
