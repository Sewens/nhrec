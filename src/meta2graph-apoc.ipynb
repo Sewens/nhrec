{
 "cells": [
  {
   "cell_type": "code",
   "execution_count": 1,
   "id": "initial_id",
   "metadata": {
    "ExecuteTime": {
     "end_time": "2024-12-01T09:45:25.420523Z",
     "start_time": "2024-12-01T09:45:25.181257Z"
    },
    "execution": {
     "iopub.execute_input": "2024-12-03T07:18:42.309871Z",
     "iopub.status.busy": "2024-12-03T07:18:42.309871Z",
     "iopub.status.idle": "2024-12-03T07:18:43.787682Z",
     "shell.execute_reply": "2024-12-03T07:18:43.787682Z",
     "shell.execute_reply.started": "2024-12-03T07:18:42.309871Z"
    }
   },
   "outputs": [],
   "source": [
    "import json\n",
    "import os\n",
    "import re\n",
    "import pandas as pd\n",
    "import numpy as np"
   ]
  },
  {
   "cell_type": "markdown",
   "id": "3cf26fad-aa11-4fa8-b0f9-f80ea2fd9819",
   "metadata": {},
   "source": [
    "## 1. 读取本地元数据文件"
   ]
  },
  {
   "cell_type": "code",
   "execution_count": 2,
   "id": "fc2990d2-0f6e-4f78-bd29-5bcd238263dc",
   "metadata": {
    "execution": {
     "iopub.execute_input": "2024-12-03T07:18:43.787682Z",
     "iopub.status.busy": "2024-12-03T07:18:43.787682Z",
     "iopub.status.idle": "2024-12-03T07:18:43.794772Z",
     "shell.execute_reply": "2024-12-03T07:18:43.793669Z",
     "shell.execute_reply.started": "2024-12-03T07:18:43.787682Z"
    }
   },
   "outputs": [],
   "source": [
    "df_fpath = {\n",
    "    'tag':'../data/dumps/tag_241201.pkl',\n",
    "    'character':'../data/dumps/character_241201.pkl',\n",
    "    'group':'../data/dumps/group_241201.pkl',\n",
    "    'parody':'../data/dumps/parody_241201.pkl',\n",
    "    'artist':'../data/dumps/artist_241201.pkl'\n",
    "}"
   ]
  },
  {
   "cell_type": "code",
   "execution_count": 3,
   "id": "08bb2f9c-2932-48be-9b9b-612000f9d687",
   "metadata": {
    "execution": {
     "iopub.execute_input": "2024-12-03T07:18:43.796786Z",
     "iopub.status.busy": "2024-12-03T07:18:43.795770Z",
     "iopub.status.idle": "2024-12-03T07:18:43.800851Z",
     "shell.execute_reply": "2024-12-03T07:18:43.799841Z",
     "shell.execute_reply.started": "2024-12-03T07:18:43.796786Z"
    }
   },
   "outputs": [],
   "source": [
    "meta_df_map = {}"
   ]
  },
  {
   "cell_type": "code",
   "execution_count": 4,
   "id": "82081348-3da4-4eea-8e24-f409d6487db2",
   "metadata": {
    "execution": {
     "iopub.execute_input": "2024-12-03T07:18:43.801859Z",
     "iopub.status.busy": "2024-12-03T07:18:43.801859Z",
     "iopub.status.idle": "2024-12-03T07:18:43.858470Z",
     "shell.execute_reply": "2024-12-03T07:18:43.857413Z",
     "shell.execute_reply.started": "2024-12-03T07:18:43.801859Z"
    },
    "scrolled": true
   },
   "outputs": [],
   "source": [
    "for k in df_fpath:\n",
    "    meta_df_map[k] = pd.read_pickle(df_fpath[k])"
   ]
  },
  {
   "cell_type": "markdown",
   "id": "b13d4f4a-f4d4-4b57-9c62-6df523fc2f45",
   "metadata": {},
   "source": [
    "## 2. 读取本地漫画节点数据"
   ]
  },
  {
   "cell_type": "code",
   "execution_count": 5,
   "id": "db432538-cf85-442d-8fc9-805ab3b32153",
   "metadata": {
    "execution": {
     "iopub.execute_input": "2024-12-03T07:18:43.860454Z",
     "iopub.status.busy": "2024-12-03T07:18:43.859422Z",
     "iopub.status.idle": "2024-12-03T07:18:52.762297Z",
     "shell.execute_reply": "2024-12-03T07:18:52.762297Z",
     "shell.execute_reply.started": "2024-12-03T07:18:43.860454Z"
    }
   },
   "outputs": [],
   "source": [
    "manga_df = pd.read_pickle('../data/dumps/manga_241130.pkl')"
   ]
  },
  {
   "cell_type": "markdown",
   "id": "e721fec3-99aa-491d-bb51-e9a909f31bdc",
   "metadata": {},
   "source": [
    "## 3. 建立neo4j链接\n",
    "\n",
    "远程链接本地链接均可。"
   ]
  },
  {
   "cell_type": "code",
   "execution_count": 19,
   "id": "d7c0c806-b376-495b-a898-5078a8ea6a7b",
   "metadata": {
    "execution": {
     "iopub.execute_input": "2024-12-03T07:36:07.303197Z",
     "iopub.status.busy": "2024-12-03T07:36:07.303197Z",
     "iopub.status.idle": "2024-12-03T07:36:07.316121Z",
     "shell.execute_reply": "2024-12-03T07:36:07.315115Z",
     "shell.execute_reply.started": "2024-12-03T07:36:07.303197Z"
    }
   },
   "outputs": [],
   "source": [
    "import neo4j\n",
    "from neo4j import GraphDatabase\n",
    "\n",
    "URI = \"bolt://Calculator:7687\"\n",
    "\n",
    "AUTH = (\"neo4j\", \"11111111\")\n",
    "\n",
    "with GraphDatabase.driver(URI, auth=AUTH) as driver:\n",
    "    \n",
    "    driver.verify_connectivity()"
   ]
  },
  {
   "cell_type": "markdown",
   "id": "2a8d2712-5b44-4d69-a618-4ebaa9208d30",
   "metadata": {},
   "source": [
    "## 3.1 首先构建关系\n",
    "\n",
    "关系总数远大于节点数时首先建立关系，之后更新节点的properties"
   ]
  },
  {
   "cell_type": "markdown",
   "id": "2eb71c0c-3a19-45a8-a70b-bbda9b5b8e38",
   "metadata": {},
   "source": [
    "```python\n",
    "relationships_to_insert = [\n",
    "    {\"start_node\": \"A\", \"end_node\": \"B\", \"relationship_type\": \"RELATIONSHIP_1\", \"properties\": {\"prop1\": \"value1\"}},\n",
    "    {\"start_node\": \"A\", \"end_node\": \"B\", \"relationship_type\": \"RELATIONSHIP_2\", \"properties\": {\"prop2\": \"value2\"}},\n",
    "    # 更多关系数据...\n",
    "]\n",
    "```"
   ]
  },
  {
   "cell_type": "code",
   "execution_count": 7,
   "id": "68dcb78b-5f70-4344-b709-cfe328b4154f",
   "metadata": {
    "execution": {
     "iopub.execute_input": "2024-12-03T07:18:52.937769Z",
     "iopub.status.busy": "2024-12-03T07:18:52.937769Z",
     "iopub.status.idle": "2024-12-03T07:18:52.944025Z",
     "shell.execute_reply": "2024-12-03T07:18:52.943018Z",
     "shell.execute_reply.started": "2024-12-03T07:18:52.937769Z"
    },
    "scrolled": true
   },
   "outputs": [],
   "source": [
    "node_property = ['id','title','url','api','media_id','epos','num_favorites','category',\n",
    "                 'language','cover','thumbnail','image_urls','num_pages']"
   ]
  },
  {
   "cell_type": "code",
   "execution_count": 8,
   "id": "1bd28758-9fb0-45ef-9648-babd7ed28c5c",
   "metadata": {
    "execution": {
     "iopub.execute_input": "2024-12-03T07:18:52.945531Z",
     "iopub.status.busy": "2024-12-03T07:18:52.944025Z",
     "iopub.status.idle": "2024-12-03T07:18:52.948755Z",
     "shell.execute_reply": "2024-12-03T07:18:52.948755Z",
     "shell.execute_reply.started": "2024-12-03T07:18:52.945531Z"
    }
   },
   "outputs": [],
   "source": [
    "relation_property = ['tag', 'group', 'parody', 'character','artist']"
   ]
  },
  {
   "cell_type": "code",
   "execution_count": 9,
   "id": "b9095bfc-939d-42c5-a5dc-0439d5d8967c",
   "metadata": {
    "execution": {
     "iopub.execute_input": "2024-12-03T07:18:52.948755Z",
     "iopub.status.busy": "2024-12-03T07:18:52.948755Z",
     "iopub.status.idle": "2024-12-03T07:18:56.031297Z",
     "shell.execute_reply": "2024-12-03T07:18:56.031297Z",
     "shell.execute_reply.started": "2024-12-03T07:18:52.948755Z"
    },
    "scrolled": true
   },
   "outputs": [],
   "source": [
    "rel_id_map = {}\n",
    "for key in meta_df_map:\n",
    "    if not key in rel_id_map:\n",
    "        rel_id_map[key] = {}\n",
    "    for _,tpl in meta_df_map[key].iterrows():\n",
    "        rel_id_map[key][tpl['name']] = tpl[f'{key}_id']"
   ]
  },
  {
   "cell_type": "code",
   "execution_count": 10,
   "id": "c47bac9a-f314-4789-9582-c4f30e397059",
   "metadata": {
    "execution": {
     "iopub.execute_input": "2024-12-03T07:18:56.031297Z",
     "iopub.status.busy": "2024-12-03T07:18:56.031297Z",
     "iopub.status.idle": "2024-12-03T07:18:56.048187Z",
     "shell.execute_reply": "2024-12-03T07:18:56.048187Z",
     "shell.execute_reply.started": "2024-12-03T07:18:56.031297Z"
    }
   },
   "outputs": [
    {
     "data": {
      "text/plain": [
       "1033"
      ]
     },
     "execution_count": 10,
     "metadata": {},
     "output_type": "execute_result"
    }
   ],
   "source": [
    "rel_id_map['tag']['handjob']"
   ]
  },
  {
   "cell_type": "code",
   "execution_count": 27,
   "id": "92efb452-a847-44b5-976d-e6a94e08c6ab",
   "metadata": {
    "execution": {
     "iopub.execute_input": "2024-12-03T07:44:17.896132Z",
     "iopub.status.busy": "2024-12-03T07:44:17.896132Z",
     "iopub.status.idle": "2024-12-03T07:44:17.902439Z",
     "shell.execute_reply": "2024-12-03T07:44:17.901165Z",
     "shell.execute_reply.started": "2024-12-03T07:44:17.896132Z"
    }
   },
   "outputs": [],
   "source": [
    "def create_relation_batch(tx,relationships):\n",
    "    rel_type = relationships[0]['relationship_type']\n",
    "    schema = rel_type.removeprefix('has_')\n",
    "    query = f'''CALL apoc.periodic.iterate(\n",
    "        \"UNWIND $relationships AS rel\n",
    "        MERGE (a:manga {{manga_id:rel.start_node}})\n",
    "        MERGE (b:{schema} {{{schema}_id:rel.end_node}})\n",
    "        \",\n",
    "        \"MERGE (a)-[:{rel_type}]->(b)\",\n",
    "        {{batchSize: 20480, iterateList:true, parallel:true,\n",
    "        params: {{relationships: $relationships}}}}\n",
    "    )\n",
    "    '''\n",
    "    tx.run(query, relationships=relationships)"
   ]
  },
  {
   "cell_type": "code",
   "execution_count": null,
   "id": "11303acb-13e0-444b-b466-7263ac14da47",
   "metadata": {
    "execution": {
     "execution_failed": "2024-12-07T02:23:59.402Z",
     "iopub.execute_input": "2024-12-03T07:44:18.312868Z",
     "iopub.status.busy": "2024-12-03T07:44:18.312868Z"
    },
    "scrolled": true
   },
   "outputs": [
    {
     "name": "stdout",
     "output_type": "stream",
     "text": [
      "tag data build successful. Total volume:3876841\n",
      "Insert tag on batchsize:20480 epoch:0\n",
      "Insert tag on batchsize:20480 epoch:1\n",
      "Insert tag on batchsize:20480 epoch:2\n",
      "Insert tag on batchsize:20480 epoch:3\n",
      "Insert tag on batchsize:20480 epoch:4\n",
      "Insert tag on batchsize:20480 epoch:5\n",
      "Insert tag on batchsize:20480 epoch:6\n",
      "Insert tag on batchsize:20480 epoch:7\n",
      "Insert tag on batchsize:20480 epoch:8\n",
      "Insert tag on batchsize:20480 epoch:9\n",
      "Insert tag on batchsize:20480 epoch:10\n",
      "Insert tag on batchsize:20480 epoch:11\n",
      "Insert tag on batchsize:20480 epoch:12\n",
      "Insert tag on batchsize:20480 epoch:13\n",
      "Insert tag on batchsize:20480 epoch:14\n",
      "Insert tag on batchsize:20480 epoch:15\n",
      "Insert tag on batchsize:20480 epoch:16\n",
      "Insert tag on batchsize:20480 epoch:17\n",
      "Insert tag on batchsize:20480 epoch:18\n",
      "Insert tag on batchsize:20480 epoch:19\n",
      "Insert tag on batchsize:20480 epoch:20\n",
      "Insert tag on batchsize:20480 epoch:21\n",
      "Insert tag on batchsize:20480 epoch:22\n",
      "Insert tag on batchsize:20480 epoch:23\n",
      "Insert tag on batchsize:20480 epoch:24\n",
      "Insert tag on batchsize:20480 epoch:25\n",
      "Insert tag on batchsize:20480 epoch:26\n",
      "Insert tag on batchsize:20480 epoch:27\n",
      "Insert tag on batchsize:20480 epoch:28\n",
      "Insert tag on batchsize:20480 epoch:29\n",
      "Insert tag on batchsize:20480 epoch:30\n",
      "Insert tag on batchsize:20480 epoch:31\n",
      "Insert tag on batchsize:20480 epoch:32\n",
      "Insert tag on batchsize:20480 epoch:33\n",
      "Insert tag on batchsize:20480 epoch:34\n",
      "Insert tag on batchsize:20480 epoch:35\n",
      "Insert tag on batchsize:20480 epoch:36\n",
      "Insert tag on batchsize:20480 epoch:37\n",
      "Insert tag on batchsize:20480 epoch:38\n",
      "Insert tag on batchsize:20480 epoch:39\n",
      "Insert tag on batchsize:20480 epoch:40\n",
      "Insert tag on batchsize:20480 epoch:41\n",
      "Insert tag on batchsize:20480 epoch:42\n",
      "Insert tag on batchsize:20480 epoch:43\n",
      "Insert tag on batchsize:20480 epoch:44\n",
      "Insert tag on batchsize:20480 epoch:45\n",
      "Insert tag on batchsize:20480 epoch:46\n",
      "Insert tag on batchsize:20480 epoch:47\n",
      "Insert tag on batchsize:20480 epoch:48\n",
      "Insert tag on batchsize:20480 epoch:49\n",
      "Insert tag on batchsize:20480 epoch:50\n",
      "Insert tag on batchsize:20480 epoch:51\n",
      "Insert tag on batchsize:20480 epoch:52\n",
      "Insert tag on batchsize:20480 epoch:53\n",
      "Insert tag on batchsize:20480 epoch:54\n",
      "Insert tag on batchsize:20480 epoch:55\n",
      "Insert tag on batchsize:20480 epoch:56\n",
      "Insert tag on batchsize:20480 epoch:57\n",
      "Insert tag on batchsize:20480 epoch:58\n",
      "Insert tag on batchsize:20480 epoch:59\n",
      "Insert tag on batchsize:20480 epoch:60\n",
      "Insert tag on batchsize:20480 epoch:61\n",
      "Insert tag on batchsize:20480 epoch:62\n",
      "Insert tag on batchsize:20480 epoch:63\n",
      "Insert tag on batchsize:20480 epoch:64\n",
      "Insert tag on batchsize:20480 epoch:65\n",
      "Insert tag on batchsize:20480 epoch:66\n",
      "Insert tag on batchsize:20480 epoch:67\n",
      "Insert tag on batchsize:20480 epoch:68\n",
      "Insert tag on batchsize:20480 epoch:69\n",
      "Insert tag on batchsize:20480 epoch:70\n",
      "Insert tag on batchsize:20480 epoch:71\n",
      "Insert tag on batchsize:20480 epoch:72\n",
      "Insert tag on batchsize:20480 epoch:73\n",
      "Insert tag on batchsize:20480 epoch:74\n",
      "Insert tag on batchsize:20480 epoch:75\n",
      "Insert tag on batchsize:20480 epoch:76\n",
      "Insert tag on batchsize:20480 epoch:77\n",
      "Insert tag on batchsize:20480 epoch:78\n",
      "Insert tag on batchsize:20480 epoch:79\n",
      "Insert tag on batchsize:20480 epoch:80\n",
      "Insert tag on batchsize:20480 epoch:81\n",
      "Insert tag on batchsize:20480 epoch:82\n",
      "Insert tag on batchsize:20480 epoch:83\n",
      "Insert tag on batchsize:20480 epoch:84\n",
      "Insert tag on batchsize:20480 epoch:85\n",
      "Insert tag on batchsize:20480 epoch:86\n",
      "Insert tag on batchsize:20480 epoch:87\n",
      "Insert tag on batchsize:20480 epoch:88\n",
      "Insert tag on batchsize:20480 epoch:89\n",
      "Insert tag on batchsize:20480 epoch:90\n",
      "Insert tag on batchsize:20480 epoch:91\n",
      "Insert tag on batchsize:20480 epoch:92\n",
      "Insert tag on batchsize:20480 epoch:93\n",
      "Insert tag on batchsize:20480 epoch:94\n",
      "Insert tag on batchsize:20480 epoch:95\n",
      "Insert tag on batchsize:20480 epoch:96\n",
      "Insert tag on batchsize:20480 epoch:97\n",
      "Insert tag on batchsize:20480 epoch:98\n",
      "Insert tag on batchsize:20480 epoch:99\n",
      "Insert tag on batchsize:20480 epoch:100\n",
      "Insert tag on batchsize:20480 epoch:101\n",
      "Insert tag on batchsize:20480 epoch:102\n",
      "Insert tag on batchsize:20480 epoch:103\n",
      "Insert tag on batchsize:20480 epoch:104\n",
      "Insert tag on batchsize:20480 epoch:105\n",
      "Insert tag on batchsize:20480 epoch:106\n",
      "Insert tag on batchsize:20480 epoch:107\n",
      "Insert tag on batchsize:20480 epoch:108\n",
      "Insert tag on batchsize:20480 epoch:109\n",
      "Insert tag on batchsize:20480 epoch:110\n",
      "Insert tag on batchsize:20480 epoch:111\n",
      "Insert tag on batchsize:20480 epoch:112\n",
      "Insert tag on batchsize:20480 epoch:113\n",
      "Insert tag on batchsize:20480 epoch:114\n",
      "Insert tag on batchsize:20480 epoch:115\n",
      "Insert tag on batchsize:20480 epoch:116\n",
      "Insert tag on batchsize:20480 epoch:117\n",
      "Insert tag on batchsize:20480 epoch:118\n",
      "Insert tag on batchsize:20480 epoch:119\n",
      "Insert tag on batchsize:20480 epoch:120\n",
      "Insert tag on batchsize:20480 epoch:121\n",
      "Insert tag on batchsize:20480 epoch:122\n",
      "Insert tag on batchsize:20480 epoch:123\n",
      "Insert tag on batchsize:20480 epoch:124\n",
      "Insert tag on batchsize:20480 epoch:125\n",
      "Insert tag on batchsize:20480 epoch:126\n",
      "Insert tag on batchsize:20480 epoch:127\n",
      "Insert tag on batchsize:20480 epoch:128\n",
      "Insert tag on batchsize:20480 epoch:129\n",
      "Insert tag on batchsize:20480 epoch:130\n",
      "Insert tag on batchsize:20480 epoch:131\n",
      "Insert tag on batchsize:20480 epoch:132\n",
      "Insert tag on batchsize:20480 epoch:133\n",
      "Insert tag on batchsize:20480 epoch:134\n",
      "Insert tag on batchsize:20480 epoch:135\n",
      "Insert tag on batchsize:20480 epoch:136\n",
      "Insert tag on batchsize:20480 epoch:137\n",
      "Insert tag on batchsize:20480 epoch:138\n",
      "Insert tag on batchsize:20480 epoch:139\n",
      "Insert tag on batchsize:20480 epoch:140\n",
      "Insert tag on batchsize:20480 epoch:141\n",
      "Insert tag on batchsize:20480 epoch:142\n",
      "Insert tag on batchsize:20480 epoch:143\n",
      "Insert tag on batchsize:20480 epoch:144\n",
      "Insert tag on batchsize:20480 epoch:145\n",
      "Insert tag on batchsize:20480 epoch:146\n",
      "Insert tag on batchsize:20480 epoch:147\n",
      "Insert tag on batchsize:20480 epoch:148\n",
      "Insert tag on batchsize:20480 epoch:149\n",
      "Insert tag on batchsize:20480 epoch:150\n",
      "Insert tag on batchsize:20480 epoch:151\n",
      "Insert tag on batchsize:20480 epoch:152\n",
      "Insert tag on batchsize:20480 epoch:153\n",
      "Insert tag on batchsize:20480 epoch:154\n",
      "Insert tag on batchsize:20480 epoch:155\n",
      "Insert tag on batchsize:20480 epoch:156\n",
      "Insert tag on batchsize:20480 epoch:157\n",
      "Insert tag on batchsize:20480 epoch:158\n",
      "Insert tag on batchsize:20480 epoch:159\n",
      "Insert tag on batchsize:20480 epoch:160\n",
      "Insert tag on batchsize:20480 epoch:161\n",
      "Insert tag on batchsize:20480 epoch:162\n",
      "Insert tag on batchsize:20480 epoch:163\n",
      "Insert tag on batchsize:20480 epoch:164\n",
      "Insert tag on batchsize:20480 epoch:165\n",
      "Insert tag on batchsize:20480 epoch:166\n",
      "Insert tag on batchsize:20480 epoch:167\n",
      "Insert tag on batchsize:20480 epoch:168\n",
      "Insert tag on batchsize:20480 epoch:169\n",
      "Insert tag on batchsize:20480 epoch:170\n",
      "Insert tag on batchsize:20480 epoch:171\n",
      "Insert tag on batchsize:20480 epoch:172\n",
      "Insert tag on batchsize:20480 epoch:173\n",
      "Insert tag on batchsize:20480 epoch:174\n",
      "Insert tag on batchsize:20480 epoch:175\n",
      "Insert tag on batchsize:20480 epoch:176\n",
      "Insert tag on batchsize:20480 epoch:177\n",
      "Insert tag on batchsize:20480 epoch:178\n",
      "Insert tag on batchsize:20480 epoch:179\n",
      "Insert tag on batchsize:20480 epoch:180\n",
      "Insert tag on batchsize:20480 epoch:181\n",
      "Insert tag on batchsize:20480 epoch:182\n",
      "Insert tag on batchsize:20480 epoch:183\n",
      "Insert tag on batchsize:20480 epoch:184\n",
      "Insert tag on batchsize:20480 epoch:185\n"
     ]
    }
   ],
   "source": [
    "# building relation and destory\n",
    "for rel_type in relation_property:\n",
    "    relation_lst = []\n",
    "    for idx,(_,tpl) in enumerate(manga_df.iterrows()):\n",
    "        rel_builder = lambda x:{'start_node':tpl[f'manga_id'],\n",
    "                                'end_node':rel_id_map[rel_type][x],\n",
    "                                'relationship_type':f'has_{rel_type}'}\n",
    "        \n",
    "        relation_lst += map(rel_builder,tpl[rel_type])\n",
    "\n",
    "    print(f'{rel_type} data build successful. Total volume:{len(relation_lst)}')\n",
    "    # insert relationship\n",
    "    with GraphDatabase.driver(URI, auth=AUTH) as driver:\n",
    "    \n",
    "        driver.verify_connectivity()\n",
    "    \n",
    "        with driver.session() as session:\n",
    "            \n",
    "            session.execute_write(create_relation_batch, relation_lst)\n",
    "\n",
    "    print(f'{rel_type} insert successful. Total volume:{len(relation_lst)}')\n",
    "    del relation_lst"
   ]
  },
  {
   "cell_type": "code",
   "execution_count": null,
   "id": "2ef38e18-1b0b-4718-afde-e51f6a6c507d",
   "metadata": {},
   "outputs": [],
   "source": []
  },
  {
   "cell_type": "markdown",
   "id": "97f52200-121a-4761-a616-9bd2864d96d4",
   "metadata": {},
   "source": [
    "## 3.2 更新tag节点和manga节点值"
   ]
  },
  {
   "cell_type": "code",
   "execution_count": 60,
   "id": "61723678-d52b-48b7-ae2a-08cbdf0b64a1",
   "metadata": {},
   "outputs": [],
   "source": [
    "# 批量创建节点\n",
    "def create_nodes_in_batch(tx, meta_name , nodes):\n",
    "    query = f\"UNWIND $nodes AS node CREATE (t:{meta_name} {{name: node.name, count: node.count, href: node.link, id:node.id}})\"\n",
    "    tx.run(query, nodes=nodes)\n",
    "\n",
    "# def update_nodes_in_batch(tx, meta_name , nodes):\n",
    "#     query = f\" UNWIND $nodes AS node MATCH (u:{meta_name}) WHERE u.name = node.name SET u.count = node.count \"\n",
    "#     tx.run(query, nodes=nodes)"
   ]
  },
  {
   "cell_type": "code",
   "execution_count": 61,
   "id": "c4c6a5f8-9d6a-4d2a-ab4a-e60b413ff802",
   "metadata": {
    "scrolled": true
   },
   "outputs": [],
   "source": [
    "with GraphDatabase.driver(URI, auth=AUTH) as driver:\n",
    "    \n",
    "    driver.verify_connectivity()\n",
    "    \n",
    "    for key in meta_df_map:\n",
    "        node_df = meta_df_map[key]\n",
    "\n",
    "        # 示例：批量插入数据\n",
    "        nodes_to_insert = list(node_df.T.to_dict().values())\n",
    "        \n",
    "        with driver.session() as session:\n",
    "            \n",
    "            session.execute_write(create_nodes_in_batch, key, nodes_to_insert)\n",
    "            "
   ]
  },
  {
   "cell_type": "markdown",
   "id": "b05137b2-8f62-439f-bf33-327739f8cbb6",
   "metadata": {},
   "source": [
    "### 3.2 插入漫画节点"
   ]
  },
  {
   "cell_type": "code",
   "execution_count": 62,
   "id": "c8f2cc3a-761c-48bf-9d6c-75503e6ce661",
   "metadata": {},
   "outputs": [
    {
     "data": {
      "text/plain": [
       "Index(['id', 'title', 'scanlator', 'url', 'api', 'media_id', 'epos',\n",
       "       'num_favorites', 'tag', 'group', 'parody', 'character', 'language',\n",
       "       'artist', 'category', 'cover', 'thumbnail', 'image_urls', 'num_pages'],\n",
       "      dtype='object')"
      ]
     },
     "execution_count": 62,
     "metadata": {},
     "output_type": "execute_result"
    }
   ],
   "source": [
    "manga_df.columns"
   ]
  },
  {
   "cell_type": "code",
   "execution_count": 65,
   "id": "afe675c0-1f16-4f2b-b0a1-34056c31cd9e",
   "metadata": {},
   "outputs": [],
   "source": [
    "def create_manga_nodes_in_batch(tx , nodes):\n",
    "    in_query = '{' + ','.join([f'{key}:node.{key}' for key in node_property]) + '}'\n",
    "    query = f\"UNWIND $nodes AS node CREATE (t:manga {in_query})\"\n",
    "    \n",
    "    tx.run(query, nodes=nodes)"
   ]
  },
  {
   "cell_type": "code",
   "execution_count": 66,
   "id": "95648926-67d0-431e-9a70-3c4f5ce1257a",
   "metadata": {},
   "outputs": [],
   "source": [
    "# 示例：批量插入数据\n",
    "nodes_to_insert = list(manga_df[node_property].T.to_dict().values())"
   ]
  },
  {
   "cell_type": "code",
   "execution_count": 67,
   "id": "0ec4a9ac-2a3f-4aa3-93c2-6d7cc1a7554e",
   "metadata": {
    "scrolled": true
   },
   "outputs": [],
   "source": [
    "with GraphDatabase.driver(URI, auth=AUTH) as driver:\n",
    "    \n",
    "    driver.verify_connectivity()\n",
    "\n",
    "    with driver.session() as session:\n",
    "\n",
    "        batch_size = 256\n",
    "        for i in range(0,len(nodes_to_insert),batch_size):\n",
    "            nodes_batch = nodes_to_insert[i:i+batch_size]\n",
    "        \n",
    "            session.execute_write(create_manga_nodes_in_batch , nodes_batch)\n",
    "del nodes_to_insert"
   ]
  },
  {
   "cell_type": "markdown",
   "id": "0df5c748-5385-4879-82f8-806d952d2199",
   "metadata": {},
   "source": [
    "### 3.3 插入节点关系"
   ]
  },
  {
   "cell_type": "code",
   "execution_count": null,
   "id": "665d5712-cc09-478f-a57a-f141bc2942d5",
   "metadata": {},
   "outputs": [],
   "source": []
  },
  {
   "cell_type": "code",
   "execution_count": null,
   "id": "c35c4cff-e526-4cb4-a7e2-1919b3167978",
   "metadata": {},
   "outputs": [],
   "source": []
  },
  {
   "cell_type": "code",
   "execution_count": null,
   "id": "d816a1de-b783-4575-abfa-8fd538140517",
   "metadata": {},
   "outputs": [],
   "source": []
  }
 ],
 "metadata": {
  "kernelspec": {
   "display_name": "Python 3 (ipykernel)",
   "language": "python",
   "name": "python3"
  },
  "language_info": {
   "codemirror_mode": {
    "name": "ipython",
    "version": 3
   },
   "file_extension": ".py",
   "mimetype": "text/x-python",
   "name": "python",
   "nbconvert_exporter": "python",
   "pygments_lexer": "ipython3",
   "version": "3.11.5"
  }
 },
 "nbformat": 4,
 "nbformat_minor": 5
}
