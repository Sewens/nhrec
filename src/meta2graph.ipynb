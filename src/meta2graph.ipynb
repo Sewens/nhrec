{
 "cells": [
  {
   "cell_type": "code",
   "execution_count": 1,
   "id": "initial_id",
   "metadata": {
    "ExecuteTime": {
     "end_time": "2024-12-01T05:09:25.763536Z",
     "start_time": "2024-12-01T05:09:25.566878Z"
    }
   },
   "outputs": [],
   "source": [
    "import json\n",
    "import os\n",
    "import re\n",
    "import pandas as pd\n",
    "import numpy as np"
   ]
  },
  {
   "cell_type": "markdown",
   "id": "3cf26fad-aa11-4fa8-b0f9-f80ea2fd9819",
   "metadata": {},
   "source": [
    "## 1. 读取本地元数据文件"
   ]
  },
  {
   "cell_type": "code",
   "execution_count": 2,
   "id": "fc2990d2-0f6e-4f78-bd29-5bcd238263dc",
   "metadata": {},
   "outputs": [],
   "source": [
    "df_fpath = {\n",
    "    'tag':'../data/dumps/tag_241201.pkl',\n",
    "    'character':'../data/dumps/character_241201.pkl',\n",
    "    'group':'../data/dumps/group_241201.pkl',\n",
    "    'parody':'../data/dumps/parody_241201.pkl',\n",
    "    'artist':'../data/dumps/artist_241201.pkl'\n",
    "}"
   ]
  },
  {
   "cell_type": "code",
   "execution_count": 3,
   "id": "08bb2f9c-2932-48be-9b9b-612000f9d687",
   "metadata": {},
   "outputs": [],
   "source": [
    "meta_df_map = {}"
   ]
  },
  {
   "cell_type": "code",
   "execution_count": 5,
   "id": "82081348-3da4-4eea-8e24-f409d6487db2",
   "metadata": {},
   "outputs": [],
   "source": [
    "for k in df_fpath:\n",
    "    meta_df_map[k] = pd.read_pickle(df_fpath[k])"
   ]
  },
  {
   "cell_type": "markdown",
   "id": "b13d4f4a-f4d4-4b57-9c62-6df523fc2f45",
   "metadata": {},
   "source": [
    "## 2. 读取本地漫画节点数据"
   ]
  },
  {
   "cell_type": "code",
   "execution_count": 6,
   "id": "db432538-cf85-442d-8fc9-805ab3b32153",
   "metadata": {},
   "outputs": [],
   "source": [
    "manga_df = pd.read_pickle('../data/dumps/manga_241130.pkl')"
   ]
  },
  {
   "cell_type": "markdown",
   "id": "e721fec3-99aa-491d-bb51-e9a909f31bdc",
   "metadata": {},
   "source": [
    "## 3. 建立neo4j链接"
   ]
  },
  {
   "cell_type": "code",
   "execution_count": 7,
   "id": "d7c0c806-b376-495b-a898-5078a8ea6a7b",
   "metadata": {},
   "outputs": [],
   "source": [
    "import neo4j\n",
    "from neo4j import GraphDatabase\n",
    "\n",
    "URI = \"bolt://localhost:7687\"\n",
    "\n",
    "AUTH = (\"neo4j\", \"11111111\")"
   ]
  },
  {
   "cell_type": "markdown",
   "id": "97f52200-121a-4761-a616-9bd2864d96d4",
   "metadata": {},
   "source": [
    "### 3.1 插入元数据节点"
   ]
  },
  {
   "cell_type": "code",
   "execution_count": 8,
   "id": "61723678-d52b-48b7-ae2a-08cbdf0b64a1",
   "metadata": {},
   "outputs": [],
   "source": [
    "# 批量创建节点\n",
    "def create_nodes_in_batch(tx, meta_name , nodes):\n",
    "    query = f\"UNWIND $nodes AS node CREATE (t:{meta_name} {{name: node.name, count: node.count, href: node.link, id:node.id}})\"\n",
    "    tx.run(query, nodes=nodes)\n",
    "\n",
    "# def update_nodes_in_batch(tx, meta_name , nodes):\n",
    "#     query = f\" UNWIND $nodes AS node MATCH (u:{meta_name}) WHERE u.name = node.name SET u.count = node.count \"\n",
    "#     tx.run(query, nodes=nodes)"
   ]
  },
  {
   "cell_type": "code",
   "execution_count": 12,
   "id": "c4c6a5f8-9d6a-4d2a-ab4a-e60b413ff802",
   "metadata": {
    "scrolled": true
   },
   "outputs": [],
   "source": [
    "with GraphDatabase.driver(URI, auth=AUTH) as driver:\n",
    "    \n",
    "    driver.verify_connectivity()\n",
    "    \n",
    "    for key in meta_df_map:\n",
    "        node_df = meta_df_map[key]\n",
    "\n",
    "        # 示例：批量插入数据\n",
    "        nodes_to_insert = list(node_df.T.to_dict().values())\n",
    "        \n",
    "        with driver.session() as session:\n",
    "            \n",
    "            session.execute_write(create_nodes_in_batch, key, nodes_to_insert)\n",
    "            "
   ]
  },
  {
   "cell_type": "markdown",
   "id": "b05137b2-8f62-439f-bf33-327739f8cbb6",
   "metadata": {},
   "source": [
    "### 3.2 插入漫画节点"
   ]
  },
  {
   "cell_type": "code",
   "execution_count": 13,
   "id": "c8f2cc3a-761c-48bf-9d6c-75503e6ce661",
   "metadata": {},
   "outputs": [
    {
     "data": {
      "text/plain": [
       "Index(['id', 'title', 'scanlator', 'url', 'api', 'media_id', 'epos',\n",
       "       'num_favorites', 'tag', 'group', 'parody', 'character', 'language',\n",
       "       'artist', 'category', 'cover', 'thumbnail', 'image_urls', 'num_pages'],\n",
       "      dtype='object')"
      ]
     },
     "execution_count": 13,
     "metadata": {},
     "output_type": "execute_result"
    }
   ],
   "source": [
    "manga_df.columns"
   ]
  },
  {
   "cell_type": "code",
   "execution_count": 14,
   "id": "68dcb78b-5f70-4344-b709-cfe328b4154f",
   "metadata": {
    "scrolled": true
   },
   "outputs": [],
   "source": [
    "node_property = ['id','title','url','api','media_id','epos','num_favorites','category',\n",
    "                 'language','cover','thumbnail','image_urls','num_pages']"
   ]
  },
  {
   "cell_type": "code",
   "execution_count": 15,
   "id": "1bd28758-9fb0-45ef-9648-babd7ed28c5c",
   "metadata": {},
   "outputs": [],
   "source": [
    "relation_property = ['tag', 'group', 'parody', 'character','artist']"
   ]
  },
  {
   "cell_type": "code",
   "execution_count": 16,
   "id": "afe675c0-1f16-4f2b-b0a1-34056c31cd9e",
   "metadata": {},
   "outputs": [],
   "source": [
    "def create_manga_nodes_in_batch(tx , nodes):\n",
    "    in_query = '{' + ','.join([f'{key}:node.{key}' for key in node_property]) + '}'\n",
    "    query = f\"UNWIND $nodes AS node CREATE (t:manga {in_query})\"\n",
    "    \n",
    "    tx.run(query, nodes=nodes)"
   ]
  },
  {
   "cell_type": "code",
   "execution_count": 17,
   "id": "95648926-67d0-431e-9a70-3c4f5ce1257a",
   "metadata": {},
   "outputs": [],
   "source": [
    "# 示例：批量插入数据\n",
    "nodes_to_insert = list(manga_df[node_property].T.to_dict().values())"
   ]
  },
  {
   "cell_type": "code",
   "execution_count": 18,
   "id": "0ec4a9ac-2a3f-4aa3-93c2-6d7cc1a7554e",
   "metadata": {
    "scrolled": true
   },
   "outputs": [],
   "source": [
    "with GraphDatabase.driver(URI, auth=AUTH) as driver:\n",
    "    \n",
    "    driver.verify_connectivity()\n",
    "\n",
    "    with driver.session() as session:\n",
    "\n",
    "        batch_size = 256\n",
    "        for i in range(0,len(nodes_to_insert),batch_size):\n",
    "            nodes_batch = nodes_to_insert[i:i+batch_size]\n",
    "        \n",
    "            session.execute_write(create_manga_nodes_in_batch , nodes_batch)\n",
    "del nodes_to_insert"
   ]
  },
  {
   "cell_type": "markdown",
   "id": "0df5c748-5385-4879-82f8-806d952d2199",
   "metadata": {},
   "source": [
    "### 3.3 插入节点关系"
   ]
  },
  {
   "cell_type": "markdown",
   "id": "b24ef313-b925-4da3-8a88-a08398b4ba9b",
   "metadata": {},
   "source": [
    "```python\n",
    "relationships_to_insert = [\n",
    "    {\"start_node\": \"A\", \"end_node\": \"B\", \"relationship_type\": \"RELATIONSHIP_1\", \"properties\": {\"prop1\": \"value1\"}},\n",
    "    {\"start_node\": \"A\", \"end_node\": \"B\", \"relationship_type\": \"RELATIONSHIP_2\", \"properties\": {\"prop2\": \"value2\"}},\n",
    "    # 更多关系数据...\n",
    "]\n",
    "```"
   ]
  },
  {
   "cell_type": "code",
   "execution_count": 20,
   "id": "b9095bfc-939d-42c5-a5dc-0439d5d8967c",
   "metadata": {},
   "outputs": [],
   "source": [
    "rel_id_map = {}\n",
    "for key in meta_df_map:\n",
    "    if not key in rel_id_map:\n",
    "        rel_id_map[key] = {}\n",
    "    for _,tpl in meta_df_map[key].iterrows():\n",
    "        rel_id_map[key][tpl['name']] = tpl['id']"
   ]
  },
  {
   "cell_type": "code",
   "execution_count": 24,
   "id": "c47bac9a-f314-4789-9582-c4f30e397059",
   "metadata": {},
   "outputs": [
    {
     "data": {
      "text/plain": [
       "1033"
      ]
     },
     "execution_count": 24,
     "metadata": {},
     "output_type": "execute_result"
    }
   ],
   "source": [
    "rel_id_map['tag']['handjob']"
   ]
  },
  {
   "cell_type": "code",
   "execution_count": 57,
   "id": "92efb452-a847-44b5-976d-e6a94e08c6ab",
   "metadata": {},
   "outputs": [],
   "source": [
    "def create_relation_batch(tx,relationships):\n",
    "    rel_type = relationships[0]['relationship_type']\n",
    "    schema = rel_type.removeprefix('has_')\n",
    "    query = f'''UNWIND $relationships AS rel\n",
    "    MATCH (a:manga where a.id=rel.start_node), (b:{schema} where b.id=rel.end_node)\n",
    "    CREATE (a)-[:{rel_type}]->(b)\n",
    "    '''\n",
    "    tx.run(query, relationships=relationships)"
   ]
  },
  {
   "cell_type": "code",
   "execution_count": 37,
   "id": "16e6184a-d397-46a3-a9d8-9d7684e6c0b9",
   "metadata": {
    "scrolled": true
   },
   "outputs": [
    {
     "data": {
      "text/plain": [
       "{'start_node': 228132, 'end_node': 1033, 'relationship_type': 'has_tag'}"
      ]
     },
     "execution_count": 37,
     "metadata": {},
     "output_type": "execute_result"
    }
   ],
   "source": [
    "relation_lst[0]"
   ]
  },
  {
   "cell_type": "code",
   "execution_count": null,
   "id": "11303acb-13e0-444b-b466-7263ac14da47",
   "metadata": {},
   "outputs": [],
   "source": [
    "# building relation and destory\n",
    "for rel_type in relation_property:\n",
    "    relation_lst = []\n",
    "    for idx,(_,tpl) in enumerate(manga_df.iterrows()):\n",
    "        rel_builder = lambda x:{'start_node':tpl['id'],'end_node':rel_id_map[rel_type][x],'relationship_type':f'has_{rel_type}'}\n",
    "        relation_lst += map(rel_builder,tpl[rel_type])\n",
    "    \n",
    "    # insert relationship\n",
    "    with GraphDatabase.driver(URI, auth=AUTH) as driver:\n",
    "    \n",
    "        driver.verify_connectivity()\n",
    "    \n",
    "        with driver.session() as session:\n",
    "    \n",
    "            batch_size = 256\n",
    "            for i in range(0,len(relation_lst),batch_size):\n",
    "                relations_batch = relation_lst[i:i+batch_size]\n",
    "            \n",
    "                session.execute_write(create_relation_batch, relations_batch)\n",
    "\n",
    "    print(f'{rel_type} insert successful. Total volume:{len(relation_lst)}')\n",
    "    del relation_lst"
   ]
  },
  {
   "cell_type": "code",
   "execution_count": null,
   "id": "665d5712-cc09-478f-a57a-f141bc2942d5",
   "metadata": {},
   "outputs": [],
   "source": []
  },
  {
   "cell_type": "code",
   "execution_count": null,
   "id": "c35c4cff-e526-4cb4-a7e2-1919b3167978",
   "metadata": {},
   "outputs": [],
   "source": []
  },
  {
   "cell_type": "code",
   "execution_count": null,
   "id": "d816a1de-b783-4575-abfa-8fd538140517",
   "metadata": {},
   "outputs": [],
   "source": []
  }
 ],
 "metadata": {
  "kernelspec": {
   "display_name": "Python 3 (ipykernel)",
   "language": "python",
   "name": "python3"
  },
  "language_info": {
   "codemirror_mode": {
    "name": "ipython",
    "version": 3
   },
   "file_extension": ".py",
   "mimetype": "text/x-python",
   "name": "python",
   "nbconvert_exporter": "python",
   "pygments_lexer": "ipython3",
   "version": "3.12.7"
  }
 },
 "nbformat": 4,
 "nbformat_minor": 5
}
