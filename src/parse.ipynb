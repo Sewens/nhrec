{
 "cells": [
  {
   "cell_type": "code",
   "execution_count": 1,
   "id": "initial_id",
   "metadata": {
    "ExecuteTime": {
     "end_time": "2024-12-01T05:09:33.869869Z",
     "start_time": "2024-12-01T05:09:33.685774Z"
    }
   },
   "outputs": [],
   "source": [
    "import json\n",
    "import os\n",
    "import re\n",
    "import pandas as pd\n",
    "import numpy as np"
   ]
  },
  {
   "cell_type": "markdown",
   "id": "3cf26fad-aa11-4fa8-b0f9-f80ea2fd9819",
   "metadata": {},
   "source": [
    "## 1. 读取本地元数据文件"
   ]
  },
  {
   "cell_type": "code",
   "execution_count": 3,
   "id": "fc2990d2-0f6e-4f78-bd29-5bcd238263dc",
   "metadata": {},
   "outputs": [],
   "source": [
    "json_fpath = {\n",
    "    'tag':'../data/meta/tags-id.json',\n",
    "    'character':'../data/meta/characters-id.json',\n",
    "    'group':'../data/meta/groups-id.json',\n",
    "    'parody':'../data/meta/parodies-id.json',\n",
    "    'artist':'../data/meta/artists-id.json'\n",
    "}"
   ]
  },
  {
   "cell_type": "code",
   "execution_count": 4,
   "id": "096d81a8-5edf-4cee-807d-b4652b89cd11",
   "metadata": {},
   "outputs": [],
   "source": [
    "meta_json_map = {\n",
    "    k:json.load(open(json_fpath[k],'r')) for k in json_fpath\n",
    "}"
   ]
  },
  {
   "cell_type": "markdown",
   "id": "1bb4a80e-400f-401b-8744-04c1084d22e5",
   "metadata": {},
   "source": [
    "### 1.1 存储为dataframe"
   ]
  },
  {
   "cell_type": "code",
   "execution_count": 5,
   "id": "81226652-507f-4f1c-8b61-18eb9fac0ce5",
   "metadata": {},
   "outputs": [],
   "source": [
    "meta_df_map = {k:pd.DataFrame(data=meta_json_map[k]) for k in meta_json_map}"
   ]
  },
  {
   "cell_type": "code",
   "execution_count": 6,
   "id": "2fb23c84-6771-4181-bb24-76856d9d20ce",
   "metadata": {},
   "outputs": [],
   "source": [
    "num_to_int = lambda x:int(x) if not 'K' in x else int(x.removesuffix('K'))*1000"
   ]
  },
  {
   "cell_type": "code",
   "execution_count": 7,
   "id": "9dc02687-5428-4060-8ac8-3e330811719f",
   "metadata": {
    "scrolled": true
   },
   "outputs": [],
   "source": [
    "for k in meta_df_map:\n",
    "    meta_df_map[k]['count'] = meta_df_map[k]['count'].apply(num_to_int)"
   ]
  },
  {
   "cell_type": "code",
   "execution_count": 8,
   "id": "82081348-3da4-4eea-8e24-f409d6487db2",
   "metadata": {},
   "outputs": [],
   "source": [
    "for k in meta_df_map:\n",
    "    meta_df_map[k].to_pickle(f'../data/dumps/{k}_241201.pkl')"
   ]
  },
  {
   "cell_type": "markdown",
   "id": "b13d4f4a-f4d4-4b57-9c62-6df523fc2f45",
   "metadata": {},
   "source": [
    "## 2. 读取本地漫画节点数据"
   ]
  },
  {
   "cell_type": "code",
   "execution_count": 8,
   "id": "a2c295a2-45ff-496e-9bb5-3a1e1d422c67",
   "metadata": {
    "scrolled": true
   },
   "outputs": [],
   "source": [
    "all_manga_data = []\n",
    "empty_fpath = []\n",
    "for fpath in os.listdir('../data/manga/'):\n",
    "    fstr = open(f'../data/manga/{fpath}','r',encoding='utf-8').read()\n",
    "    if not fstr=='':\n",
    "        all_manga_data += json.loads(fstr)\n",
    "    else:\n",
    "        empty_fpath.append(fpath)"
   ]
  },
  {
   "cell_type": "code",
   "execution_count": 9,
   "id": "60f1afb6-fc08-4e8b-bd8a-e10c7866ccaf",
   "metadata": {},
   "outputs": [
    {
     "data": {
      "text/plain": [
       "3042"
      ]
     },
     "execution_count": 9,
     "metadata": {},
     "output_type": "execute_result"
    }
   ],
   "source": [
    "len(empty_fpath)"
   ]
  },
  {
   "cell_type": "code",
   "execution_count": 10,
   "id": "6d4365e9-5c8d-42f5-9909-05a8fcfbcf5d",
   "metadata": {},
   "outputs": [],
   "source": [
    "with open('../data/empty_file.txt','w',encoding='utf-8') as file:\n",
    "    file.write('\\n'.join(empty_fpath))"
   ]
  },
  {
   "cell_type": "code",
   "execution_count": 11,
   "id": "db432538-cf85-442d-8fc9-805ab3b32153",
   "metadata": {},
   "outputs": [],
   "source": [
    "manga_df = pd.DataFrame(data=all_manga_data)"
   ]
  },
  {
   "cell_type": "markdown",
   "id": "86d2f0ed-701e-45e1-b54f-c79898d09ac4",
   "metadata": {},
   "source": [
    "### 2.1 存储文件"
   ]
  },
  {
   "cell_type": "code",
   "execution_count": 12,
   "id": "a6d935a0-5174-4e2e-8cba-df56e82482e6",
   "metadata": {},
   "outputs": [],
   "source": [
    "manga_df.to_pickle('../data/dumps/manga_241130.pkl')"
   ]
  },
  {
   "cell_type": "markdown",
   "id": "e721fec3-99aa-491d-bb51-e9a909f31bdc",
   "metadata": {},
   "source": [
    "## 3. 建立neo4j链接"
   ]
  },
  {
   "cell_type": "code",
   "execution_count": 13,
   "id": "d7c0c806-b376-495b-a898-5078a8ea6a7b",
   "metadata": {},
   "outputs": [],
   "source": [
    "import neo4j\n",
    "from neo4j import GraphDatabase\n",
    "\n",
    "URI = \"bolt://localhost:7687\"\n",
    "\n",
    "AUTH = (\"neo4j\", \"11111111\")"
   ]
  },
  {
   "cell_type": "markdown",
   "id": "97f52200-121a-4761-a616-9bd2864d96d4",
   "metadata": {},
   "source": [
    "### 3.1 插入元数据节点"
   ]
  },
  {
   "cell_type": "code",
   "execution_count": 14,
   "id": "61723678-d52b-48b7-ae2a-08cbdf0b64a1",
   "metadata": {},
   "outputs": [],
   "source": [
    "# 批量创建节点\n",
    "def create_nodes_in_batch(tx, meta_name , nodes):\n",
    "    query = f\"UNWIND $nodes AS node CREATE (t:{meta_name} {{name: node.name, count: node.count, href: node.link}})\"\n",
    "    tx.run(query, nodes=nodes)\n",
    "\n",
    "# def update_nodes_in_batch(tx, meta_name , nodes):\n",
    "#     query = f\" UNWIND $nodes AS node MATCH (u:{meta_name}) WHERE u.name = node.name SET u.count = node.count \"\n",
    "#     tx.run(query, nodes=nodes)"
   ]
  },
  {
   "cell_type": "code",
   "execution_count": 17,
   "id": "c4c6a5f8-9d6a-4d2a-ab4a-e60b413ff802",
   "metadata": {
    "scrolled": true
   },
   "outputs": [
    {
     "ename": "ServiceUnavailable",
     "evalue": "Couldn't connect to localhost:7687 (resolved to ()):\nFailed to establish connection to ResolvedIPv6Address(('::1', 7687, 0, 0)) (reason [Errno 61] Connection refused)\nFailed to establish connection to ResolvedIPv4Address(('127.0.0.1', 7687)) (reason [Errno 61] Connection refused)",
     "output_type": "error",
     "traceback": [
      "\u001b[0;31m---------------------------------------------------------------------------\u001b[0m",
      "\u001b[0;31mConnectionRefusedError\u001b[0m                    Traceback (most recent call last)",
      "File \u001b[0;32m/opt/homebrew/Caskroom/miniconda/base/lib/python3.12/site-packages/neo4j/_async_compat/network/_bolt_socket.py:564\u001b[0m, in \u001b[0;36mBoltSocket._connect\u001b[0;34m(cls, resolved_address, timeout, keep_alive)\u001b[0m\n\u001b[1;32m    563\u001b[0m log\u001b[38;5;241m.\u001b[39mdebug(\u001b[38;5;124m\"\u001b[39m\u001b[38;5;124m[#0000]  C: <OPEN> \u001b[39m\u001b[38;5;132;01m%s\u001b[39;00m\u001b[38;5;124m\"\u001b[39m, resolved_address)\n\u001b[0;32m--> 564\u001b[0m s\u001b[38;5;241m.\u001b[39mconnect(resolved_address)\n\u001b[1;32m    565\u001b[0m s\u001b[38;5;241m.\u001b[39msettimeout(t)\n",
      "\u001b[0;31mConnectionRefusedError\u001b[0m: [Errno 61] Connection refused",
      "\nThe above exception was the direct cause of the following exception:\n",
      "\u001b[0;31mServiceUnavailable\u001b[0m                        Traceback (most recent call last)",
      "File \u001b[0;32m/opt/homebrew/Caskroom/miniconda/base/lib/python3.12/site-packages/neo4j/_async_compat/network/_bolt_socket.py:750\u001b[0m, in \u001b[0;36mBoltSocket.connect\u001b[0;34m(cls, address, tcp_timeout, deadline, custom_resolver, ssl_context, keep_alive)\u001b[0m\n\u001b[1;32m    749\u001b[0m \u001b[38;5;28;01mtry\u001b[39;00m:\n\u001b[0;32m--> 750\u001b[0m     s \u001b[38;5;241m=\u001b[39m BoltSocket\u001b[38;5;241m.\u001b[39m_connect(\n\u001b[1;32m    751\u001b[0m         resolved_address, tcp_timeout, keep_alive\n\u001b[1;32m    752\u001b[0m     )\n\u001b[1;32m    753\u001b[0m     s \u001b[38;5;241m=\u001b[39m BoltSocket\u001b[38;5;241m.\u001b[39m_secure(\n\u001b[1;32m    754\u001b[0m         s, resolved_address\u001b[38;5;241m.\u001b[39m_host_name, ssl_context\n\u001b[1;32m    755\u001b[0m     )\n",
      "File \u001b[0;32m/opt/homebrew/Caskroom/miniconda/base/lib/python3.12/site-packages/neo4j/_async_compat/network/_bolt_socket.py:586\u001b[0m, in \u001b[0;36mBoltSocket._connect\u001b[0;34m(cls, resolved_address, timeout, keep_alive)\u001b[0m\n\u001b[1;32m    585\u001b[0m \u001b[38;5;28;01mif\u001b[39;00m \u001b[38;5;28misinstance\u001b[39m(error, \u001b[38;5;167;01mOSError\u001b[39;00m):\n\u001b[0;32m--> 586\u001b[0m     \u001b[38;5;28;01mraise\u001b[39;00m ServiceUnavailable(\n\u001b[1;32m    587\u001b[0m         \u001b[38;5;124mf\u001b[39m\u001b[38;5;124m\"\u001b[39m\u001b[38;5;124mFailed to establish connection to \u001b[39m\u001b[38;5;132;01m{\u001b[39;00mresolved_address\u001b[38;5;132;01m!r}\u001b[39;00m\u001b[38;5;124m \u001b[39m\u001b[38;5;124m\"\u001b[39m\n\u001b[1;32m    588\u001b[0m         \u001b[38;5;124mf\u001b[39m\u001b[38;5;124m\"\u001b[39m\u001b[38;5;124m(reason \u001b[39m\u001b[38;5;132;01m{\u001b[39;00merror\u001b[38;5;132;01m}\u001b[39;00m\u001b[38;5;124m)\u001b[39m\u001b[38;5;124m\"\u001b[39m\n\u001b[1;32m    589\u001b[0m     ) \u001b[38;5;28;01mfrom\u001b[39;00m \u001b[38;5;21;01merror\u001b[39;00m\n\u001b[1;32m    590\u001b[0m \u001b[38;5;28;01mraise\u001b[39;00m\n",
      "\u001b[0;31mServiceUnavailable\u001b[0m: Failed to establish connection to ResolvedIPv6Address(('::1', 7687, 0, 0)) (reason [Errno 61] Connection refused)",
      "\nThe above exception was the direct cause of the following exception:\n",
      "\u001b[0;31mServiceUnavailable\u001b[0m                        Traceback (most recent call last)",
      "Cell \u001b[0;32mIn[17], line 3\u001b[0m\n\u001b[1;32m      1\u001b[0m \u001b[38;5;28;01mwith\u001b[39;00m GraphDatabase\u001b[38;5;241m.\u001b[39mdriver(URI, auth\u001b[38;5;241m=\u001b[39mAUTH) \u001b[38;5;28;01mas\u001b[39;00m driver:\n\u001b[0;32m----> 3\u001b[0m     driver\u001b[38;5;241m.\u001b[39mverify_connectivity()\n",
      "File \u001b[0;32m/opt/homebrew/Caskroom/miniconda/base/lib/python3.12/site-packages/neo4j/_sync/driver.py:1081\u001b[0m, in \u001b[0;36mDriver.verify_connectivity\u001b[0;34m(self, **config)\u001b[0m\n\u001b[1;32m   1074\u001b[0m     experimental_warn(\n\u001b[1;32m   1075\u001b[0m         \u001b[38;5;124m\"\u001b[39m\u001b[38;5;124mAll configuration key-word arguments to \u001b[39m\u001b[38;5;124m\"\u001b[39m\n\u001b[1;32m   1076\u001b[0m         \u001b[38;5;124m\"\u001b[39m\u001b[38;5;124mverify_connectivity() are experimental. They might be \u001b[39m\u001b[38;5;124m\"\u001b[39m\n\u001b[1;32m   1077\u001b[0m         \u001b[38;5;124m\"\u001b[39m\u001b[38;5;124mchanged or removed in any future version without prior \u001b[39m\u001b[38;5;124m\"\u001b[39m\n\u001b[1;32m   1078\u001b[0m         \u001b[38;5;124m\"\u001b[39m\u001b[38;5;124mnotice.\u001b[39m\u001b[38;5;124m\"\u001b[39m\n\u001b[1;32m   1079\u001b[0m     )\n\u001b[1;32m   1080\u001b[0m session_config \u001b[38;5;241m=\u001b[39m \u001b[38;5;28mself\u001b[39m\u001b[38;5;241m.\u001b[39m_read_session_config(config)\n\u001b[0;32m-> 1081\u001b[0m \u001b[38;5;28mself\u001b[39m\u001b[38;5;241m.\u001b[39m_get_server_info(session_config)\n",
      "File \u001b[0;32m/opt/homebrew/Caskroom/miniconda/base/lib/python3.12/site-packages/neo4j/_sync/driver.py:1296\u001b[0m, in \u001b[0;36mDriver._get_server_info\u001b[0;34m(self, session_config)\u001b[0m\n\u001b[1;32m   1294\u001b[0m \u001b[38;5;28;01mdef\u001b[39;00m \u001b[38;5;21m_get_server_info\u001b[39m(\u001b[38;5;28mself\u001b[39m, session_config) \u001b[38;5;241m-\u001b[39m\u001b[38;5;241m>\u001b[39m ServerInfo:\n\u001b[1;32m   1295\u001b[0m     \u001b[38;5;28;01mwith\u001b[39;00m \u001b[38;5;28mself\u001b[39m\u001b[38;5;241m.\u001b[39m_session(session_config) \u001b[38;5;28;01mas\u001b[39;00m session:\n\u001b[0;32m-> 1296\u001b[0m         \u001b[38;5;28;01mreturn\u001b[39;00m session\u001b[38;5;241m.\u001b[39m_get_server_info()\n",
      "File \u001b[0;32m/opt/homebrew/Caskroom/miniconda/base/lib/python3.12/site-packages/neo4j/_sync/work/session.py:183\u001b[0m, in \u001b[0;36mSession._get_server_info\u001b[0;34m(self)\u001b[0m\n\u001b[1;32m    181\u001b[0m \u001b[38;5;28;01mdef\u001b[39;00m \u001b[38;5;21m_get_server_info\u001b[39m(\u001b[38;5;28mself\u001b[39m):\n\u001b[1;32m    182\u001b[0m     \u001b[38;5;28;01massert\u001b[39;00m \u001b[38;5;129;01mnot\u001b[39;00m \u001b[38;5;28mself\u001b[39m\u001b[38;5;241m.\u001b[39m_connection\n\u001b[0;32m--> 183\u001b[0m     \u001b[38;5;28mself\u001b[39m\u001b[38;5;241m.\u001b[39m_connect(READ_ACCESS, liveness_check_timeout\u001b[38;5;241m=\u001b[39m\u001b[38;5;241m0\u001b[39m)\n\u001b[1;32m    184\u001b[0m     server_info \u001b[38;5;241m=\u001b[39m \u001b[38;5;28mself\u001b[39m\u001b[38;5;241m.\u001b[39m_connection\u001b[38;5;241m.\u001b[39mserver_info\n\u001b[1;32m    185\u001b[0m     \u001b[38;5;28mself\u001b[39m\u001b[38;5;241m.\u001b[39m_disconnect()\n",
      "File \u001b[0;32m/opt/homebrew/Caskroom/miniconda/base/lib/python3.12/site-packages/neo4j/_sync/work/session.py:136\u001b[0m, in \u001b[0;36mSession._connect\u001b[0;34m(self, access_mode, **acquire_kwargs)\u001b[0m\n\u001b[1;32m    134\u001b[0m     access_mode \u001b[38;5;241m=\u001b[39m \u001b[38;5;28mself\u001b[39m\u001b[38;5;241m.\u001b[39m_config\u001b[38;5;241m.\u001b[39mdefault_access_mode\n\u001b[1;32m    135\u001b[0m \u001b[38;5;28;01mtry\u001b[39;00m:\n\u001b[0;32m--> 136\u001b[0m     \u001b[38;5;28msuper\u001b[39m()\u001b[38;5;241m.\u001b[39m_connect(\n\u001b[1;32m    137\u001b[0m         access_mode, auth\u001b[38;5;241m=\u001b[39m\u001b[38;5;28mself\u001b[39m\u001b[38;5;241m.\u001b[39m_config\u001b[38;5;241m.\u001b[39mauth, \u001b[38;5;241m*\u001b[39m\u001b[38;5;241m*\u001b[39macquire_kwargs\n\u001b[1;32m    138\u001b[0m     )\n\u001b[1;32m    139\u001b[0m \u001b[38;5;28;01mexcept\u001b[39;00m asyncio\u001b[38;5;241m.\u001b[39mCancelledError:\n\u001b[1;32m    140\u001b[0m     \u001b[38;5;28mself\u001b[39m\u001b[38;5;241m.\u001b[39m_handle_cancellation(message\u001b[38;5;241m=\u001b[39m\u001b[38;5;124m\"\u001b[39m\u001b[38;5;124m_connect\u001b[39m\u001b[38;5;124m\"\u001b[39m)\n",
      "File \u001b[0;32m/opt/homebrew/Caskroom/miniconda/base/lib/python3.12/site-packages/neo4j/_sync/work/workspace.py:184\u001b[0m, in \u001b[0;36mWorkspace._connect\u001b[0;34m(self, access_mode, auth, **acquire_kwargs)\u001b[0m\n\u001b[1;32m    175\u001b[0m acquire_kwargs_ \u001b[38;5;241m=\u001b[39m {\n\u001b[1;32m    176\u001b[0m     \u001b[38;5;124m\"\u001b[39m\u001b[38;5;124maccess_mode\u001b[39m\u001b[38;5;124m\"\u001b[39m: access_mode,\n\u001b[1;32m    177\u001b[0m     \u001b[38;5;124m\"\u001b[39m\u001b[38;5;124mtimeout\u001b[39m\u001b[38;5;124m\"\u001b[39m: acquisition_timeout,\n\u001b[0;32m   (...)\u001b[0m\n\u001b[1;32m    181\u001b[0m     \u001b[38;5;124m\"\u001b[39m\u001b[38;5;124mliveness_check_timeout\u001b[39m\u001b[38;5;124m\"\u001b[39m: \u001b[38;5;28;01mNone\u001b[39;00m,\n\u001b[1;32m    182\u001b[0m }\n\u001b[1;32m    183\u001b[0m acquire_kwargs_\u001b[38;5;241m.\u001b[39mupdate(acquire_kwargs)\n\u001b[0;32m--> 184\u001b[0m \u001b[38;5;28mself\u001b[39m\u001b[38;5;241m.\u001b[39m_connection \u001b[38;5;241m=\u001b[39m \u001b[38;5;28mself\u001b[39m\u001b[38;5;241m.\u001b[39m_pool\u001b[38;5;241m.\u001b[39macquire(\u001b[38;5;241m*\u001b[39m\u001b[38;5;241m*\u001b[39macquire_kwargs_)\n\u001b[1;32m    185\u001b[0m \u001b[38;5;28mself\u001b[39m\u001b[38;5;241m.\u001b[39m_connection_access_mode \u001b[38;5;241m=\u001b[39m access_mode\n",
      "File \u001b[0;32m/opt/homebrew/Caskroom/miniconda/base/lib/python3.12/site-packages/neo4j/_sync/io/_pool.py:597\u001b[0m, in \u001b[0;36mBoltPool.acquire\u001b[0;34m(self, access_mode, timeout, database, bookmarks, auth, liveness_check_timeout)\u001b[0m\n\u001b[1;32m    590\u001b[0m log\u001b[38;5;241m.\u001b[39mdebug(\n\u001b[1;32m    591\u001b[0m     \u001b[38;5;124m\"\u001b[39m\u001b[38;5;124m[#0000]  _: <POOL> acquire direct connection, \u001b[39m\u001b[38;5;124m\"\u001b[39m\n\u001b[1;32m    592\u001b[0m     \u001b[38;5;124m\"\u001b[39m\u001b[38;5;124maccess_mode=\u001b[39m\u001b[38;5;132;01m%r\u001b[39;00m\u001b[38;5;124m, database=\u001b[39m\u001b[38;5;132;01m%r\u001b[39;00m\u001b[38;5;124m\"\u001b[39m,\n\u001b[1;32m    593\u001b[0m     access_mode,\n\u001b[1;32m    594\u001b[0m     database,\n\u001b[1;32m    595\u001b[0m )\n\u001b[1;32m    596\u001b[0m deadline \u001b[38;5;241m=\u001b[39m Deadline\u001b[38;5;241m.\u001b[39mfrom_timeout_or_deadline(timeout)\n\u001b[0;32m--> 597\u001b[0m \u001b[38;5;28;01mreturn\u001b[39;00m \u001b[38;5;28mself\u001b[39m\u001b[38;5;241m.\u001b[39m_acquire(\n\u001b[1;32m    598\u001b[0m     \u001b[38;5;28mself\u001b[39m\u001b[38;5;241m.\u001b[39maddress, auth, deadline, liveness_check_timeout\n\u001b[1;32m    599\u001b[0m )\n",
      "File \u001b[0;32m/opt/homebrew/Caskroom/miniconda/base/lib/python3.12/site-packages/neo4j/_sync/io/_pool.py:347\u001b[0m, in \u001b[0;36mIOPool._acquire\u001b[0;34m(self, address, auth, deadline, liveness_check_timeout)\u001b[0m\n\u001b[1;32m    342\u001b[0m             \u001b[38;5;28;01mraise\u001b[39;00m ClientError(\n\u001b[1;32m    343\u001b[0m                 \u001b[38;5;124m\"\u001b[39m\u001b[38;5;124mfailed to obtain a connection from the pool within \u001b[39m\u001b[38;5;124m\"\u001b[39m\n\u001b[1;32m    344\u001b[0m                 \u001b[38;5;124mf\u001b[39m\u001b[38;5;124m\"\u001b[39m\u001b[38;5;132;01m{\u001b[39;00mdeadline\u001b[38;5;241m.\u001b[39moriginal_timeout\u001b[38;5;132;01m!r}\u001b[39;00m\u001b[38;5;124ms (timeout)\u001b[39m\u001b[38;5;124m\"\u001b[39m\n\u001b[1;32m    345\u001b[0m             )\n\u001b[1;32m    346\u001b[0m log\u001b[38;5;241m.\u001b[39mdebug(\u001b[38;5;124m\"\u001b[39m\u001b[38;5;124m[#0000]  _: <POOL> trying to hand out new connection\u001b[39m\u001b[38;5;124m\"\u001b[39m)\n\u001b[0;32m--> 347\u001b[0m \u001b[38;5;28;01mreturn\u001b[39;00m connection_creator()\n",
      "File \u001b[0;32m/opt/homebrew/Caskroom/miniconda/base/lib/python3.12/site-packages/neo4j/_sync/io/_pool.py:169\u001b[0m, in \u001b[0;36mIOPool._acquire_new_later.<locals>.connection_creator\u001b[0;34m()\u001b[0m\n\u001b[1;32m    167\u001b[0m \u001b[38;5;28;01mtry\u001b[39;00m:\n\u001b[1;32m    168\u001b[0m     \u001b[38;5;28;01mtry\u001b[39;00m:\n\u001b[0;32m--> 169\u001b[0m         connection \u001b[38;5;241m=\u001b[39m \u001b[38;5;28mself\u001b[39m\u001b[38;5;241m.\u001b[39mopener(\n\u001b[1;32m    170\u001b[0m             address, auth \u001b[38;5;129;01mor\u001b[39;00m \u001b[38;5;28mself\u001b[39m\u001b[38;5;241m.\u001b[39mpool_config\u001b[38;5;241m.\u001b[39mauth, deadline\n\u001b[1;32m    171\u001b[0m         )\n\u001b[1;32m    172\u001b[0m     \u001b[38;5;28;01mexcept\u001b[39;00m ServiceUnavailable:\n\u001b[1;32m    173\u001b[0m         \u001b[38;5;28mself\u001b[39m\u001b[38;5;241m.\u001b[39mdeactivate(address)\n",
      "File \u001b[0;32m/opt/homebrew/Caskroom/miniconda/base/lib/python3.12/site-packages/neo4j/_sync/io/_pool.py:560\u001b[0m, in \u001b[0;36mBoltPool.open.<locals>.opener\u001b[0;34m(addr, auth_manager, deadline)\u001b[0m\n\u001b[1;32m    559\u001b[0m \u001b[38;5;28;01mdef\u001b[39;00m \u001b[38;5;21mopener\u001b[39m(addr, auth_manager, deadline):\n\u001b[0;32m--> 560\u001b[0m     \u001b[38;5;28;01mreturn\u001b[39;00m Bolt\u001b[38;5;241m.\u001b[39mopen(\n\u001b[1;32m    561\u001b[0m         addr,\n\u001b[1;32m    562\u001b[0m         auth_manager\u001b[38;5;241m=\u001b[39mauth_manager,\n\u001b[1;32m    563\u001b[0m         deadline\u001b[38;5;241m=\u001b[39mdeadline,\n\u001b[1;32m    564\u001b[0m         routing_context\u001b[38;5;241m=\u001b[39m\u001b[38;5;28;01mNone\u001b[39;00m,\n\u001b[1;32m    565\u001b[0m         pool_config\u001b[38;5;241m=\u001b[39mpool_config,\n\u001b[1;32m    566\u001b[0m     )\n",
      "File \u001b[0;32m/opt/homebrew/Caskroom/miniconda/base/lib/python3.12/site-packages/neo4j/_sync/io/_bolt.py:448\u001b[0m, in \u001b[0;36mBolt.open\u001b[0;34m(cls, address, auth_manager, deadline, routing_context, pool_config)\u001b[0m\n\u001b[1;32m    445\u001b[0m \u001b[38;5;28;01mif\u001b[39;00m deadline \u001b[38;5;129;01mis\u001b[39;00m \u001b[38;5;28;01mNone\u001b[39;00m:\n\u001b[1;32m    446\u001b[0m     deadline \u001b[38;5;241m=\u001b[39m Deadline(\u001b[38;5;28;01mNone\u001b[39;00m)\n\u001b[0;32m--> 448\u001b[0m s, protocol_version, handshake, data \u001b[38;5;241m=\u001b[39m BoltSocket\u001b[38;5;241m.\u001b[39mconnect(\n\u001b[1;32m    449\u001b[0m     address,\n\u001b[1;32m    450\u001b[0m     tcp_timeout\u001b[38;5;241m=\u001b[39mpool_config\u001b[38;5;241m.\u001b[39mconnection_timeout,\n\u001b[1;32m    451\u001b[0m     deadline\u001b[38;5;241m=\u001b[39mdeadline,\n\u001b[1;32m    452\u001b[0m     custom_resolver\u001b[38;5;241m=\u001b[39mpool_config\u001b[38;5;241m.\u001b[39mresolver,\n\u001b[1;32m    453\u001b[0m     ssl_context\u001b[38;5;241m=\u001b[39mpool_config\u001b[38;5;241m.\u001b[39mget_ssl_context(),\n\u001b[1;32m    454\u001b[0m     keep_alive\u001b[38;5;241m=\u001b[39mpool_config\u001b[38;5;241m.\u001b[39mkeep_alive,\n\u001b[1;32m    455\u001b[0m )\n\u001b[1;32m    457\u001b[0m pool_config\u001b[38;5;241m.\u001b[39mprotocol_version \u001b[38;5;241m=\u001b[39m protocol_version\n\u001b[1;32m    459\u001b[0m \u001b[38;5;66;03m# Carry out Bolt subclass imports locally to avoid circular dependency\u001b[39;00m\n\u001b[1;32m    460\u001b[0m \u001b[38;5;66;03m# issues.\u001b[39;00m\n\u001b[1;32m    461\u001b[0m \n\u001b[1;32m    462\u001b[0m \u001b[38;5;66;03m# avoid new lines after imports for better readability and conciseness\u001b[39;00m\n\u001b[1;32m    463\u001b[0m \u001b[38;5;66;03m# fmt: off\u001b[39;00m\n",
      "File \u001b[0;32m/opt/homebrew/Caskroom/miniconda/base/lib/python3.12/site-packages/neo4j/_async_compat/network/_bolt_socket.py:784\u001b[0m, in \u001b[0;36mBoltSocket.connect\u001b[0;34m(cls, address, tcp_timeout, deadline, custom_resolver, ssl_context, keep_alive)\u001b[0m\n\u001b[1;32m    782\u001b[0m resolved_address_strs \u001b[38;5;241m=\u001b[39m \u001b[38;5;28mtuple\u001b[39m(\u001b[38;5;28mmap\u001b[39m(\u001b[38;5;28mstr\u001b[39m, resolved_addresses))\n\u001b[1;32m    783\u001b[0m error_strs \u001b[38;5;241m=\u001b[39m \u001b[38;5;124m\"\u001b[39m\u001b[38;5;130;01m\\n\u001b[39;00m\u001b[38;5;124m\"\u001b[39m\u001b[38;5;241m.\u001b[39mjoin(\u001b[38;5;28mmap\u001b[39m(\u001b[38;5;28mstr\u001b[39m, errors))\n\u001b[0;32m--> 784\u001b[0m \u001b[38;5;28;01mraise\u001b[39;00m ServiceUnavailable(\n\u001b[1;32m    785\u001b[0m     \u001b[38;5;124mf\u001b[39m\u001b[38;5;124m\"\u001b[39m\u001b[38;5;124mCouldn\u001b[39m\u001b[38;5;124m'\u001b[39m\u001b[38;5;124mt connect to \u001b[39m\u001b[38;5;132;01m{\u001b[39;00maddress\u001b[38;5;132;01m}\u001b[39;00m\u001b[38;5;124m \u001b[39m\u001b[38;5;124m\"\u001b[39m\n\u001b[1;32m    786\u001b[0m     \u001b[38;5;124mf\u001b[39m\u001b[38;5;124m\"\u001b[39m\u001b[38;5;124m(resolved to \u001b[39m\u001b[38;5;132;01m{\u001b[39;00mresolved_address_strs\u001b[38;5;132;01m}\u001b[39;00m\u001b[38;5;124m):\u001b[39m\u001b[38;5;130;01m\\n\u001b[39;00m\u001b[38;5;124m\"\u001b[39m\n\u001b[1;32m    787\u001b[0m     \u001b[38;5;124mf\u001b[39m\u001b[38;5;124m\"\u001b[39m\u001b[38;5;132;01m{\u001b[39;00merror_strs\u001b[38;5;132;01m}\u001b[39;00m\u001b[38;5;124m\"\u001b[39m\n\u001b[1;32m    788\u001b[0m ) \u001b[38;5;28;01mfrom\u001b[39;00m \u001b[38;5;21;01merrors\u001b[39;00m[\u001b[38;5;241m0\u001b[39m]\n",
      "\u001b[0;31mServiceUnavailable\u001b[0m: Couldn't connect to localhost:7687 (resolved to ()):\nFailed to establish connection to ResolvedIPv6Address(('::1', 7687, 0, 0)) (reason [Errno 61] Connection refused)\nFailed to establish connection to ResolvedIPv4Address(('127.0.0.1', 7687)) (reason [Errno 61] Connection refused)"
     ]
    }
   ],
   "source": [
    "with GraphDatabase.driver(URI, auth=AUTH) as driver:\n",
    "    \n",
    "    driver.verify_connectivity()\n",
    "    \n",
    "    # for key in meta_df_map:\n",
    "    #     node_df = meta_df_map[key]\n",
    "\n",
    "    #     # 示例：批量插入数据\n",
    "    #     nodes_to_insert = list(node_df.T.to_dict().values())\n",
    "    \n",
    "    #     with driver.session() as session:\n",
    "            \n",
    "    #         session.execute_write(create_nodes_in_batch, key, nodes_to_insert)\n",
    "    #         # session.execute_write(update_nodes_in_batch, key , nodes_to_insert)\n",
    "            "
   ]
  },
  {
   "cell_type": "markdown",
   "id": "b05137b2-8f62-439f-bf33-327739f8cbb6",
   "metadata": {},
   "source": [
    "### 3.2 插入漫画节点"
   ]
  },
  {
   "cell_type": "code",
   "execution_count": 52,
   "id": "c8f2cc3a-761c-48bf-9d6c-75503e6ce661",
   "metadata": {},
   "outputs": [
    {
     "data": {
      "text/plain": [
       "Index(['id', 'title', 'scanlator', 'url', 'api', 'media_id', 'epos',\n",
       "       'num_favorites', 'tag', 'group', 'parody', 'character', 'language',\n",
       "       'artist', 'category', 'cover', 'thumbnail', 'image_urls', 'num_pages'],\n",
       "      dtype='object')"
      ]
     },
     "execution_count": 52,
     "metadata": {},
     "output_type": "execute_result"
    }
   ],
   "source": [
    "manga_df.columns"
   ]
  },
  {
   "cell_type": "code",
   "execution_count": 149,
   "id": "68dcb78b-5f70-4344-b709-cfe328b4154f",
   "metadata": {
    "scrolled": true
   },
   "outputs": [],
   "source": [
    "node_property = ['id','title','url','api','media_id','epos','num_favorites','category',\n",
    "                 'language','cover','thumbnail','image_urls','num_pages']"
   ]
  },
  {
   "cell_type": "code",
   "execution_count": 150,
   "id": "1bd28758-9fb0-45ef-9648-babd7ed28c5c",
   "metadata": {},
   "outputs": [],
   "source": [
    "relation_property = ['tag', 'group', 'parody', 'character','artist']"
   ]
  },
  {
   "cell_type": "code",
   "execution_count": 151,
   "id": "afe675c0-1f16-4f2b-b0a1-34056c31cd9e",
   "metadata": {},
   "outputs": [],
   "source": [
    "def create_manga_nodes_in_batch(tx , nodes):\n",
    "    in_query = '{' + ','.join([f'{key}:node.{key}' for key in node_property]) + '}'\n",
    "    query = f\"UNWIND $nodes AS node CREATE (t:manga {in_query})\"\n",
    "    \n",
    "    tx.run(query, nodes=nodes)"
   ]
  },
  {
   "cell_type": "code",
   "execution_count": 152,
   "id": "95648926-67d0-431e-9a70-3c4f5ce1257a",
   "metadata": {},
   "outputs": [],
   "source": [
    "# 示例：批量插入数据\n",
    "nodes_to_insert = list(manga_df[node_property].T.to_dict().values())"
   ]
  },
  {
   "cell_type": "code",
   "execution_count": 154,
   "id": "0ec4a9ac-2a3f-4aa3-93c2-6d7cc1a7554e",
   "metadata": {},
   "outputs": [
    {
     "ename": "ServiceUnavailable",
     "evalue": "Couldn't connect to localhost:7687 (resolved to ()):\nFailed to establish connection to ResolvedIPv6Address(('::1', 7687, 0, 0)) (reason [Errno 61] Connection refused)\nFailed to establish connection to ResolvedIPv4Address(('127.0.0.1', 7687)) (reason [Errno 61] Connection refused)",
     "output_type": "error",
     "traceback": [
      "\u001b[0;31m---------------------------------------------------------------------------\u001b[0m",
      "\u001b[0;31mConnectionRefusedError\u001b[0m                    Traceback (most recent call last)",
      "File \u001b[0;32m/opt/homebrew/Caskroom/miniconda/base/lib/python3.12/site-packages/neo4j/_async_compat/network/_bolt_socket.py:564\u001b[0m, in \u001b[0;36mBoltSocket._connect\u001b[0;34m(cls, resolved_address, timeout, keep_alive)\u001b[0m\n\u001b[1;32m    563\u001b[0m log\u001b[38;5;241m.\u001b[39mdebug(\u001b[38;5;124m\"\u001b[39m\u001b[38;5;124m[#0000]  C: <OPEN> \u001b[39m\u001b[38;5;132;01m%s\u001b[39;00m\u001b[38;5;124m\"\u001b[39m, resolved_address)\n\u001b[0;32m--> 564\u001b[0m s\u001b[38;5;241m.\u001b[39mconnect(resolved_address)\n\u001b[1;32m    565\u001b[0m s\u001b[38;5;241m.\u001b[39msettimeout(t)\n",
      "\u001b[0;31mConnectionRefusedError\u001b[0m: [Errno 61] Connection refused",
      "\nThe above exception was the direct cause of the following exception:\n",
      "\u001b[0;31mServiceUnavailable\u001b[0m                        Traceback (most recent call last)",
      "File \u001b[0;32m/opt/homebrew/Caskroom/miniconda/base/lib/python3.12/site-packages/neo4j/_async_compat/network/_bolt_socket.py:750\u001b[0m, in \u001b[0;36mBoltSocket.connect\u001b[0;34m(cls, address, tcp_timeout, deadline, custom_resolver, ssl_context, keep_alive)\u001b[0m\n\u001b[1;32m    749\u001b[0m \u001b[38;5;28;01mtry\u001b[39;00m:\n\u001b[0;32m--> 750\u001b[0m     s \u001b[38;5;241m=\u001b[39m BoltSocket\u001b[38;5;241m.\u001b[39m_connect(\n\u001b[1;32m    751\u001b[0m         resolved_address, tcp_timeout, keep_alive\n\u001b[1;32m    752\u001b[0m     )\n\u001b[1;32m    753\u001b[0m     s \u001b[38;5;241m=\u001b[39m BoltSocket\u001b[38;5;241m.\u001b[39m_secure(\n\u001b[1;32m    754\u001b[0m         s, resolved_address\u001b[38;5;241m.\u001b[39m_host_name, ssl_context\n\u001b[1;32m    755\u001b[0m     )\n",
      "File \u001b[0;32m/opt/homebrew/Caskroom/miniconda/base/lib/python3.12/site-packages/neo4j/_async_compat/network/_bolt_socket.py:586\u001b[0m, in \u001b[0;36mBoltSocket._connect\u001b[0;34m(cls, resolved_address, timeout, keep_alive)\u001b[0m\n\u001b[1;32m    585\u001b[0m \u001b[38;5;28;01mif\u001b[39;00m \u001b[38;5;28misinstance\u001b[39m(error, \u001b[38;5;167;01mOSError\u001b[39;00m):\n\u001b[0;32m--> 586\u001b[0m     \u001b[38;5;28;01mraise\u001b[39;00m ServiceUnavailable(\n\u001b[1;32m    587\u001b[0m         \u001b[38;5;124mf\u001b[39m\u001b[38;5;124m\"\u001b[39m\u001b[38;5;124mFailed to establish connection to \u001b[39m\u001b[38;5;132;01m{\u001b[39;00mresolved_address\u001b[38;5;132;01m!r}\u001b[39;00m\u001b[38;5;124m \u001b[39m\u001b[38;5;124m\"\u001b[39m\n\u001b[1;32m    588\u001b[0m         \u001b[38;5;124mf\u001b[39m\u001b[38;5;124m\"\u001b[39m\u001b[38;5;124m(reason \u001b[39m\u001b[38;5;132;01m{\u001b[39;00merror\u001b[38;5;132;01m}\u001b[39;00m\u001b[38;5;124m)\u001b[39m\u001b[38;5;124m\"\u001b[39m\n\u001b[1;32m    589\u001b[0m     ) \u001b[38;5;28;01mfrom\u001b[39;00m \u001b[38;5;21;01merror\u001b[39;00m\n\u001b[1;32m    590\u001b[0m \u001b[38;5;28;01mraise\u001b[39;00m\n",
      "\u001b[0;31mServiceUnavailable\u001b[0m: Failed to establish connection to ResolvedIPv6Address(('::1', 7687, 0, 0)) (reason [Errno 61] Connection refused)",
      "\nThe above exception was the direct cause of the following exception:\n",
      "\u001b[0;31mServiceUnavailable\u001b[0m                        Traceback (most recent call last)",
      "Cell \u001b[0;32mIn[154], line 3\u001b[0m\n\u001b[1;32m      1\u001b[0m \u001b[38;5;28;01mwith\u001b[39;00m GraphDatabase\u001b[38;5;241m.\u001b[39mdriver(URI, auth\u001b[38;5;241m=\u001b[39mAUTH) \u001b[38;5;28;01mas\u001b[39;00m driver:\n\u001b[0;32m----> 3\u001b[0m     driver\u001b[38;5;241m.\u001b[39mverify_connectivity()\n\u001b[1;32m      5\u001b[0m     \u001b[38;5;28;01mwith\u001b[39;00m driver\u001b[38;5;241m.\u001b[39msession() \u001b[38;5;28;01mas\u001b[39;00m session:\n\u001b[1;32m      7\u001b[0m         batch_size \u001b[38;5;241m=\u001b[39m \u001b[38;5;241m256\u001b[39m\n",
      "File \u001b[0;32m/opt/homebrew/Caskroom/miniconda/base/lib/python3.12/site-packages/neo4j/_sync/driver.py:1081\u001b[0m, in \u001b[0;36mDriver.verify_connectivity\u001b[0;34m(self, **config)\u001b[0m\n\u001b[1;32m   1074\u001b[0m     experimental_warn(\n\u001b[1;32m   1075\u001b[0m         \u001b[38;5;124m\"\u001b[39m\u001b[38;5;124mAll configuration key-word arguments to \u001b[39m\u001b[38;5;124m\"\u001b[39m\n\u001b[1;32m   1076\u001b[0m         \u001b[38;5;124m\"\u001b[39m\u001b[38;5;124mverify_connectivity() are experimental. They might be \u001b[39m\u001b[38;5;124m\"\u001b[39m\n\u001b[1;32m   1077\u001b[0m         \u001b[38;5;124m\"\u001b[39m\u001b[38;5;124mchanged or removed in any future version without prior \u001b[39m\u001b[38;5;124m\"\u001b[39m\n\u001b[1;32m   1078\u001b[0m         \u001b[38;5;124m\"\u001b[39m\u001b[38;5;124mnotice.\u001b[39m\u001b[38;5;124m\"\u001b[39m\n\u001b[1;32m   1079\u001b[0m     )\n\u001b[1;32m   1080\u001b[0m session_config \u001b[38;5;241m=\u001b[39m \u001b[38;5;28mself\u001b[39m\u001b[38;5;241m.\u001b[39m_read_session_config(config)\n\u001b[0;32m-> 1081\u001b[0m \u001b[38;5;28mself\u001b[39m\u001b[38;5;241m.\u001b[39m_get_server_info(session_config)\n",
      "File \u001b[0;32m/opt/homebrew/Caskroom/miniconda/base/lib/python3.12/site-packages/neo4j/_sync/driver.py:1296\u001b[0m, in \u001b[0;36mDriver._get_server_info\u001b[0;34m(self, session_config)\u001b[0m\n\u001b[1;32m   1294\u001b[0m \u001b[38;5;28;01mdef\u001b[39;00m \u001b[38;5;21m_get_server_info\u001b[39m(\u001b[38;5;28mself\u001b[39m, session_config) \u001b[38;5;241m-\u001b[39m\u001b[38;5;241m>\u001b[39m ServerInfo:\n\u001b[1;32m   1295\u001b[0m     \u001b[38;5;28;01mwith\u001b[39;00m \u001b[38;5;28mself\u001b[39m\u001b[38;5;241m.\u001b[39m_session(session_config) \u001b[38;5;28;01mas\u001b[39;00m session:\n\u001b[0;32m-> 1296\u001b[0m         \u001b[38;5;28;01mreturn\u001b[39;00m session\u001b[38;5;241m.\u001b[39m_get_server_info()\n",
      "File \u001b[0;32m/opt/homebrew/Caskroom/miniconda/base/lib/python3.12/site-packages/neo4j/_sync/work/session.py:183\u001b[0m, in \u001b[0;36mSession._get_server_info\u001b[0;34m(self)\u001b[0m\n\u001b[1;32m    181\u001b[0m \u001b[38;5;28;01mdef\u001b[39;00m \u001b[38;5;21m_get_server_info\u001b[39m(\u001b[38;5;28mself\u001b[39m):\n\u001b[1;32m    182\u001b[0m     \u001b[38;5;28;01massert\u001b[39;00m \u001b[38;5;129;01mnot\u001b[39;00m \u001b[38;5;28mself\u001b[39m\u001b[38;5;241m.\u001b[39m_connection\n\u001b[0;32m--> 183\u001b[0m     \u001b[38;5;28mself\u001b[39m\u001b[38;5;241m.\u001b[39m_connect(READ_ACCESS, liveness_check_timeout\u001b[38;5;241m=\u001b[39m\u001b[38;5;241m0\u001b[39m)\n\u001b[1;32m    184\u001b[0m     server_info \u001b[38;5;241m=\u001b[39m \u001b[38;5;28mself\u001b[39m\u001b[38;5;241m.\u001b[39m_connection\u001b[38;5;241m.\u001b[39mserver_info\n\u001b[1;32m    185\u001b[0m     \u001b[38;5;28mself\u001b[39m\u001b[38;5;241m.\u001b[39m_disconnect()\n",
      "File \u001b[0;32m/opt/homebrew/Caskroom/miniconda/base/lib/python3.12/site-packages/neo4j/_sync/work/session.py:136\u001b[0m, in \u001b[0;36mSession._connect\u001b[0;34m(self, access_mode, **acquire_kwargs)\u001b[0m\n\u001b[1;32m    134\u001b[0m     access_mode \u001b[38;5;241m=\u001b[39m \u001b[38;5;28mself\u001b[39m\u001b[38;5;241m.\u001b[39m_config\u001b[38;5;241m.\u001b[39mdefault_access_mode\n\u001b[1;32m    135\u001b[0m \u001b[38;5;28;01mtry\u001b[39;00m:\n\u001b[0;32m--> 136\u001b[0m     \u001b[38;5;28msuper\u001b[39m()\u001b[38;5;241m.\u001b[39m_connect(\n\u001b[1;32m    137\u001b[0m         access_mode, auth\u001b[38;5;241m=\u001b[39m\u001b[38;5;28mself\u001b[39m\u001b[38;5;241m.\u001b[39m_config\u001b[38;5;241m.\u001b[39mauth, \u001b[38;5;241m*\u001b[39m\u001b[38;5;241m*\u001b[39macquire_kwargs\n\u001b[1;32m    138\u001b[0m     )\n\u001b[1;32m    139\u001b[0m \u001b[38;5;28;01mexcept\u001b[39;00m asyncio\u001b[38;5;241m.\u001b[39mCancelledError:\n\u001b[1;32m    140\u001b[0m     \u001b[38;5;28mself\u001b[39m\u001b[38;5;241m.\u001b[39m_handle_cancellation(message\u001b[38;5;241m=\u001b[39m\u001b[38;5;124m\"\u001b[39m\u001b[38;5;124m_connect\u001b[39m\u001b[38;5;124m\"\u001b[39m)\n",
      "File \u001b[0;32m/opt/homebrew/Caskroom/miniconda/base/lib/python3.12/site-packages/neo4j/_sync/work/workspace.py:184\u001b[0m, in \u001b[0;36mWorkspace._connect\u001b[0;34m(self, access_mode, auth, **acquire_kwargs)\u001b[0m\n\u001b[1;32m    175\u001b[0m acquire_kwargs_ \u001b[38;5;241m=\u001b[39m {\n\u001b[1;32m    176\u001b[0m     \u001b[38;5;124m\"\u001b[39m\u001b[38;5;124maccess_mode\u001b[39m\u001b[38;5;124m\"\u001b[39m: access_mode,\n\u001b[1;32m    177\u001b[0m     \u001b[38;5;124m\"\u001b[39m\u001b[38;5;124mtimeout\u001b[39m\u001b[38;5;124m\"\u001b[39m: acquisition_timeout,\n\u001b[0;32m   (...)\u001b[0m\n\u001b[1;32m    181\u001b[0m     \u001b[38;5;124m\"\u001b[39m\u001b[38;5;124mliveness_check_timeout\u001b[39m\u001b[38;5;124m\"\u001b[39m: \u001b[38;5;28;01mNone\u001b[39;00m,\n\u001b[1;32m    182\u001b[0m }\n\u001b[1;32m    183\u001b[0m acquire_kwargs_\u001b[38;5;241m.\u001b[39mupdate(acquire_kwargs)\n\u001b[0;32m--> 184\u001b[0m \u001b[38;5;28mself\u001b[39m\u001b[38;5;241m.\u001b[39m_connection \u001b[38;5;241m=\u001b[39m \u001b[38;5;28mself\u001b[39m\u001b[38;5;241m.\u001b[39m_pool\u001b[38;5;241m.\u001b[39macquire(\u001b[38;5;241m*\u001b[39m\u001b[38;5;241m*\u001b[39macquire_kwargs_)\n\u001b[1;32m    185\u001b[0m \u001b[38;5;28mself\u001b[39m\u001b[38;5;241m.\u001b[39m_connection_access_mode \u001b[38;5;241m=\u001b[39m access_mode\n",
      "File \u001b[0;32m/opt/homebrew/Caskroom/miniconda/base/lib/python3.12/site-packages/neo4j/_sync/io/_pool.py:597\u001b[0m, in \u001b[0;36mBoltPool.acquire\u001b[0;34m(self, access_mode, timeout, database, bookmarks, auth, liveness_check_timeout)\u001b[0m\n\u001b[1;32m    590\u001b[0m log\u001b[38;5;241m.\u001b[39mdebug(\n\u001b[1;32m    591\u001b[0m     \u001b[38;5;124m\"\u001b[39m\u001b[38;5;124m[#0000]  _: <POOL> acquire direct connection, \u001b[39m\u001b[38;5;124m\"\u001b[39m\n\u001b[1;32m    592\u001b[0m     \u001b[38;5;124m\"\u001b[39m\u001b[38;5;124maccess_mode=\u001b[39m\u001b[38;5;132;01m%r\u001b[39;00m\u001b[38;5;124m, database=\u001b[39m\u001b[38;5;132;01m%r\u001b[39;00m\u001b[38;5;124m\"\u001b[39m,\n\u001b[1;32m    593\u001b[0m     access_mode,\n\u001b[1;32m    594\u001b[0m     database,\n\u001b[1;32m    595\u001b[0m )\n\u001b[1;32m    596\u001b[0m deadline \u001b[38;5;241m=\u001b[39m Deadline\u001b[38;5;241m.\u001b[39mfrom_timeout_or_deadline(timeout)\n\u001b[0;32m--> 597\u001b[0m \u001b[38;5;28;01mreturn\u001b[39;00m \u001b[38;5;28mself\u001b[39m\u001b[38;5;241m.\u001b[39m_acquire(\n\u001b[1;32m    598\u001b[0m     \u001b[38;5;28mself\u001b[39m\u001b[38;5;241m.\u001b[39maddress, auth, deadline, liveness_check_timeout\n\u001b[1;32m    599\u001b[0m )\n",
      "File \u001b[0;32m/opt/homebrew/Caskroom/miniconda/base/lib/python3.12/site-packages/neo4j/_sync/io/_pool.py:347\u001b[0m, in \u001b[0;36mIOPool._acquire\u001b[0;34m(self, address, auth, deadline, liveness_check_timeout)\u001b[0m\n\u001b[1;32m    342\u001b[0m             \u001b[38;5;28;01mraise\u001b[39;00m ClientError(\n\u001b[1;32m    343\u001b[0m                 \u001b[38;5;124m\"\u001b[39m\u001b[38;5;124mfailed to obtain a connection from the pool within \u001b[39m\u001b[38;5;124m\"\u001b[39m\n\u001b[1;32m    344\u001b[0m                 \u001b[38;5;124mf\u001b[39m\u001b[38;5;124m\"\u001b[39m\u001b[38;5;132;01m{\u001b[39;00mdeadline\u001b[38;5;241m.\u001b[39moriginal_timeout\u001b[38;5;132;01m!r}\u001b[39;00m\u001b[38;5;124ms (timeout)\u001b[39m\u001b[38;5;124m\"\u001b[39m\n\u001b[1;32m    345\u001b[0m             )\n\u001b[1;32m    346\u001b[0m log\u001b[38;5;241m.\u001b[39mdebug(\u001b[38;5;124m\"\u001b[39m\u001b[38;5;124m[#0000]  _: <POOL> trying to hand out new connection\u001b[39m\u001b[38;5;124m\"\u001b[39m)\n\u001b[0;32m--> 347\u001b[0m \u001b[38;5;28;01mreturn\u001b[39;00m connection_creator()\n",
      "File \u001b[0;32m/opt/homebrew/Caskroom/miniconda/base/lib/python3.12/site-packages/neo4j/_sync/io/_pool.py:169\u001b[0m, in \u001b[0;36mIOPool._acquire_new_later.<locals>.connection_creator\u001b[0;34m()\u001b[0m\n\u001b[1;32m    167\u001b[0m \u001b[38;5;28;01mtry\u001b[39;00m:\n\u001b[1;32m    168\u001b[0m     \u001b[38;5;28;01mtry\u001b[39;00m:\n\u001b[0;32m--> 169\u001b[0m         connection \u001b[38;5;241m=\u001b[39m \u001b[38;5;28mself\u001b[39m\u001b[38;5;241m.\u001b[39mopener(\n\u001b[1;32m    170\u001b[0m             address, auth \u001b[38;5;129;01mor\u001b[39;00m \u001b[38;5;28mself\u001b[39m\u001b[38;5;241m.\u001b[39mpool_config\u001b[38;5;241m.\u001b[39mauth, deadline\n\u001b[1;32m    171\u001b[0m         )\n\u001b[1;32m    172\u001b[0m     \u001b[38;5;28;01mexcept\u001b[39;00m ServiceUnavailable:\n\u001b[1;32m    173\u001b[0m         \u001b[38;5;28mself\u001b[39m\u001b[38;5;241m.\u001b[39mdeactivate(address)\n",
      "File \u001b[0;32m/opt/homebrew/Caskroom/miniconda/base/lib/python3.12/site-packages/neo4j/_sync/io/_pool.py:560\u001b[0m, in \u001b[0;36mBoltPool.open.<locals>.opener\u001b[0;34m(addr, auth_manager, deadline)\u001b[0m\n\u001b[1;32m    559\u001b[0m \u001b[38;5;28;01mdef\u001b[39;00m \u001b[38;5;21mopener\u001b[39m(addr, auth_manager, deadline):\n\u001b[0;32m--> 560\u001b[0m     \u001b[38;5;28;01mreturn\u001b[39;00m Bolt\u001b[38;5;241m.\u001b[39mopen(\n\u001b[1;32m    561\u001b[0m         addr,\n\u001b[1;32m    562\u001b[0m         auth_manager\u001b[38;5;241m=\u001b[39mauth_manager,\n\u001b[1;32m    563\u001b[0m         deadline\u001b[38;5;241m=\u001b[39mdeadline,\n\u001b[1;32m    564\u001b[0m         routing_context\u001b[38;5;241m=\u001b[39m\u001b[38;5;28;01mNone\u001b[39;00m,\n\u001b[1;32m    565\u001b[0m         pool_config\u001b[38;5;241m=\u001b[39mpool_config,\n\u001b[1;32m    566\u001b[0m     )\n",
      "File \u001b[0;32m/opt/homebrew/Caskroom/miniconda/base/lib/python3.12/site-packages/neo4j/_sync/io/_bolt.py:448\u001b[0m, in \u001b[0;36mBolt.open\u001b[0;34m(cls, address, auth_manager, deadline, routing_context, pool_config)\u001b[0m\n\u001b[1;32m    445\u001b[0m \u001b[38;5;28;01mif\u001b[39;00m deadline \u001b[38;5;129;01mis\u001b[39;00m \u001b[38;5;28;01mNone\u001b[39;00m:\n\u001b[1;32m    446\u001b[0m     deadline \u001b[38;5;241m=\u001b[39m Deadline(\u001b[38;5;28;01mNone\u001b[39;00m)\n\u001b[0;32m--> 448\u001b[0m s, protocol_version, handshake, data \u001b[38;5;241m=\u001b[39m BoltSocket\u001b[38;5;241m.\u001b[39mconnect(\n\u001b[1;32m    449\u001b[0m     address,\n\u001b[1;32m    450\u001b[0m     tcp_timeout\u001b[38;5;241m=\u001b[39mpool_config\u001b[38;5;241m.\u001b[39mconnection_timeout,\n\u001b[1;32m    451\u001b[0m     deadline\u001b[38;5;241m=\u001b[39mdeadline,\n\u001b[1;32m    452\u001b[0m     custom_resolver\u001b[38;5;241m=\u001b[39mpool_config\u001b[38;5;241m.\u001b[39mresolver,\n\u001b[1;32m    453\u001b[0m     ssl_context\u001b[38;5;241m=\u001b[39mpool_config\u001b[38;5;241m.\u001b[39mget_ssl_context(),\n\u001b[1;32m    454\u001b[0m     keep_alive\u001b[38;5;241m=\u001b[39mpool_config\u001b[38;5;241m.\u001b[39mkeep_alive,\n\u001b[1;32m    455\u001b[0m )\n\u001b[1;32m    457\u001b[0m pool_config\u001b[38;5;241m.\u001b[39mprotocol_version \u001b[38;5;241m=\u001b[39m protocol_version\n\u001b[1;32m    459\u001b[0m \u001b[38;5;66;03m# Carry out Bolt subclass imports locally to avoid circular dependency\u001b[39;00m\n\u001b[1;32m    460\u001b[0m \u001b[38;5;66;03m# issues.\u001b[39;00m\n\u001b[1;32m    461\u001b[0m \n\u001b[1;32m    462\u001b[0m \u001b[38;5;66;03m# avoid new lines after imports for better readability and conciseness\u001b[39;00m\n\u001b[1;32m    463\u001b[0m \u001b[38;5;66;03m# fmt: off\u001b[39;00m\n",
      "File \u001b[0;32m/opt/homebrew/Caskroom/miniconda/base/lib/python3.12/site-packages/neo4j/_async_compat/network/_bolt_socket.py:784\u001b[0m, in \u001b[0;36mBoltSocket.connect\u001b[0;34m(cls, address, tcp_timeout, deadline, custom_resolver, ssl_context, keep_alive)\u001b[0m\n\u001b[1;32m    782\u001b[0m resolved_address_strs \u001b[38;5;241m=\u001b[39m \u001b[38;5;28mtuple\u001b[39m(\u001b[38;5;28mmap\u001b[39m(\u001b[38;5;28mstr\u001b[39m, resolved_addresses))\n\u001b[1;32m    783\u001b[0m error_strs \u001b[38;5;241m=\u001b[39m \u001b[38;5;124m\"\u001b[39m\u001b[38;5;130;01m\\n\u001b[39;00m\u001b[38;5;124m\"\u001b[39m\u001b[38;5;241m.\u001b[39mjoin(\u001b[38;5;28mmap\u001b[39m(\u001b[38;5;28mstr\u001b[39m, errors))\n\u001b[0;32m--> 784\u001b[0m \u001b[38;5;28;01mraise\u001b[39;00m ServiceUnavailable(\n\u001b[1;32m    785\u001b[0m     \u001b[38;5;124mf\u001b[39m\u001b[38;5;124m\"\u001b[39m\u001b[38;5;124mCouldn\u001b[39m\u001b[38;5;124m'\u001b[39m\u001b[38;5;124mt connect to \u001b[39m\u001b[38;5;132;01m{\u001b[39;00maddress\u001b[38;5;132;01m}\u001b[39;00m\u001b[38;5;124m \u001b[39m\u001b[38;5;124m\"\u001b[39m\n\u001b[1;32m    786\u001b[0m     \u001b[38;5;124mf\u001b[39m\u001b[38;5;124m\"\u001b[39m\u001b[38;5;124m(resolved to \u001b[39m\u001b[38;5;132;01m{\u001b[39;00mresolved_address_strs\u001b[38;5;132;01m}\u001b[39;00m\u001b[38;5;124m):\u001b[39m\u001b[38;5;130;01m\\n\u001b[39;00m\u001b[38;5;124m\"\u001b[39m\n\u001b[1;32m    787\u001b[0m     \u001b[38;5;124mf\u001b[39m\u001b[38;5;124m\"\u001b[39m\u001b[38;5;132;01m{\u001b[39;00merror_strs\u001b[38;5;132;01m}\u001b[39;00m\u001b[38;5;124m\"\u001b[39m\n\u001b[1;32m    788\u001b[0m ) \u001b[38;5;28;01mfrom\u001b[39;00m \u001b[38;5;21;01merrors\u001b[39;00m[\u001b[38;5;241m0\u001b[39m]\n",
      "\u001b[0;31mServiceUnavailable\u001b[0m: Couldn't connect to localhost:7687 (resolved to ()):\nFailed to establish connection to ResolvedIPv6Address(('::1', 7687, 0, 0)) (reason [Errno 61] Connection refused)\nFailed to establish connection to ResolvedIPv4Address(('127.0.0.1', 7687)) (reason [Errno 61] Connection refused)"
     ]
    }
   ],
   "source": [
    "with GraphDatabase.driver(URI, auth=AUTH) as driver:\n",
    "    \n",
    "    driver.verify_connectivity()\n",
    "\n",
    "    with driver.session() as session:\n",
    "\n",
    "        batch_size = 256\n",
    "        for i in range(0,len(nodes_to_insert),batch_size):\n",
    "            nodes_batch = nodes_to_insert[i:i+batch_size]\n",
    "        \n",
    "            session.execute_write(create_manga_nodes_in_batch , nodes_batch)\n",
    "del nodes_to_insert"
   ]
  },
  {
   "cell_type": "markdown",
   "id": "0df5c748-5385-4879-82f8-806d952d2199",
   "metadata": {},
   "source": [
    "### 3.3 插入节点关系"
   ]
  },
  {
   "cell_type": "code",
   "execution_count": 146,
   "id": "92efb452-a847-44b5-976d-e6a94e08c6ab",
   "metadata": {},
   "outputs": [],
   "source": [
    "def create_relation(tx,mid,tag_key,relation_lst):\n",
    "    for tag_name in relation_lst:\n",
    "        query = f'MATCH (a:manga where a.id=\"{mid}\"), (b:{tag_key} where b.name=\"{tag_name}\") CREATE (a)-[r:has_{tag_key}]->(b)'\n",
    "        tx.run(query)"
   ]
  },
  {
   "cell_type": "code",
   "execution_count": 147,
   "id": "80bccaba-b00d-4fd9-9a0c-0df4b5a28c03",
   "metadata": {},
   "outputs": [],
   "source": [
    "# def create_relation_batch(tx,mid,tag_key,relation_lst):\n",
    "#     query = f'UNWIND $relation_lst as row \\\n",
    "#     MATCH (s:manga where s.id=\"{mid}\"), (e:{tag_key} where e.name=row.name) CREATE (s)-[r:has_{tag_key}]->(e)'\n",
    "#     tx.run(query, relation_lst)"
   ]
  },
  {
   "cell_type": "code",
   "execution_count": 148,
   "id": "bee6ca7f-430e-4808-9a89-89fda5ceb6fd",
   "metadata": {
    "scrolled": true
   },
   "outputs": [
    {
     "name": "stdout",
     "output_type": "stream",
     "text": [
      "Building relation on tag on 0\n",
      "MATCH (a:manga where a.id=\"228132\"), (b:tag where b.name=\"handjob\") CREATE (a)-[r:has_tag]->(b)\n",
      "MATCH (a:manga where a.id=\"228132\"), (b:tag where b.name=\"big breasts\") CREATE (a)-[r:has_tag]->(b)\n",
      "MATCH (a:manga where a.id=\"228132\"), (b:tag where b.name=\"full color\") CREATE (a)-[r:has_tag]->(b)\n",
      "MATCH (a:manga where a.id=\"228132\"), (b:tag where b.name=\"paizuri\") CREATE (a)-[r:has_tag]->(b)\n",
      "MATCH (a:manga where a.id=\"228132\"), (b:tag where b.name=\"inverted nipples\") CREATE (a)-[r:has_tag]->(b)\n",
      "MATCH (a:manga where a.id=\"228132\"), (b:tag where b.name=\"sole female\") CREATE (a)-[r:has_tag]->(b)\n",
      "MATCH (a:manga where a.id=\"228132\"), (b:tag where b.name=\"sole male\") CREATE (a)-[r:has_tag]->(b)\n",
      "None\n",
      "MATCH (a:manga where a.id=\"228132\"), (b:group where b.name=\"shimoyakedou\") CREATE (a)-[r:has_group]->(b)\n",
      "None\n",
      "MATCH (a:manga where a.id=\"228132\"), (b:parody where b.name=\"touhou project\") CREATE (a)-[r:has_parody]->(b)\n",
      "None\n",
      "MATCH (a:manga where a.id=\"228132\"), (b:character where b.name=\"yuyuko saigyouji\") CREATE (a)-[r:has_character]->(b)\n",
      "None\n",
      "MATCH (a:manga where a.id=\"228132\"), (b:artist where b.name=\"ouma tokiichi\") CREATE (a)-[r:has_artist]->(b)\n",
      "None\n"
     ]
    }
   ],
   "source": [
    "for idx,(_,tpl) in enumerate(manga_df.iterrows()):\n",
    "    if idx%1000==0:\n",
    "        print(f'Building relation on {relkey} on {idx}')\n",
    "    manga_id = tpl['id']\n",
    "    \n",
    "    with GraphDatabase.driver(URI, auth=AUTH) as driver:\n",
    "        \n",
    "        driver.verify_connectivity()\n",
    "    \n",
    "        with driver.session() as session:\n",
    "    \n",
    "            for relkey in relation_property:\n",
    "                relation_lst = tpl[relkey]\n",
    "                \n",
    "                message = session.execute_write(create_relation, manga_id, relkey, relation_lst)\n",
    "                print(message)\n",
    "    break"
   ]
  },
  {
   "cell_type": "code",
   "execution_count": 134,
   "id": "fb2004cd-6e55-4107-b80f-25ba7b66a9c1",
   "metadata": {},
   "outputs": [
    {
     "data": {
      "text/plain": [
       "['ouma tokiichi']"
      ]
     },
     "execution_count": 134,
     "metadata": {},
     "output_type": "execute_result"
    }
   ],
   "source": [
    "relation_lst"
   ]
  },
  {
   "cell_type": "code",
   "execution_count": null,
   "id": "f9f6589f-6429-4f58-9b9c-0683ecc89a3f",
   "metadata": {},
   "outputs": [],
   "source": []
  },
  {
   "cell_type": "code",
   "execution_count": null,
   "id": "c35c4cff-e526-4cb4-a7e2-1919b3167978",
   "metadata": {},
   "outputs": [],
   "source": []
  },
  {
   "cell_type": "code",
   "execution_count": null,
   "id": "d816a1de-b783-4575-abfa-8fd538140517",
   "metadata": {},
   "outputs": [],
   "source": []
  }
 ],
 "metadata": {
  "kernelspec": {
   "display_name": "Python 3 (ipykernel)",
   "language": "python",
   "name": "python3"
  },
  "language_info": {
   "codemirror_mode": {
    "name": "ipython",
    "version": 3
   },
   "file_extension": ".py",
   "mimetype": "text/x-python",
   "name": "python",
   "nbconvert_exporter": "python",
   "pygments_lexer": "ipython3",
   "version": "3.12.7"
  }
 },
 "nbformat": 4,
 "nbformat_minor": 5
}
